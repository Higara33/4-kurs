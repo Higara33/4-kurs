{
 "cells": [
  {
   "cell_type": "markdown",
   "metadata": {},
   "source": [
    "# Лабораторная работа №1"
   ]
  },
  {
   "cell_type": "markdown",
   "metadata": {},
   "source": [
    "Импортирование библиотек"
   ]
  },
  {
   "cell_type": "code",
   "execution_count": 1,
   "metadata": {},
   "outputs": [],
   "source": [
    "import pandas as pd, scipy\n",
    "from scipy import stats\n",
    "import datetime\n",
    "import math\n",
    "import numpy as np\n",
    "from IPython.display import Markdown, display\n",
    "\n",
    "def printmd(string):\n",
    "    display(Markdown(string))"
   ]
  },
  {
   "cell_type": "markdown",
   "metadata": {},
   "source": [
    "## Шаг 1\n",
    "Скачиваем данные с сайта Rp5.ru за 2019 год. (Я взял СПб). Считываем CSV файл с данными в DataFrame и преобразоваем его (заменяем розу ветров)\n",
    "Параметры:\n",
    "1. **T** - Температура\n",
    "2. **P0** - атмосферное давление на уровне станции\n",
    "3. **P** - атмосферное давление, приведённое к среднему уровню\n",
    "4. **U** - Относительная влажность (%) на высоте 2 метра\n",
    "5. **DD** - направление ветра\n",
    "6. **ff** - скорость ветра на высоте 10-12 метров, осреднённая за 10мин период\n",
    "7. **ff0** - максимальное значение порыва ветра на высоте 10-12 метров, за 10мин период\n",
    "8. **ff3** - максимальное значение порыва ветра на высоте 10-12 метров, за период между сроками\n",
    "9. **N** - общая облачность\n",
    "10. **WW** - текущая погода\n",
    "11. **W1** - прошедшая погода между сроками наблюдения 1\n",
    "12. **W2** - прошедшая погода между сроками наблюдения 2\n",
    "13. **Tn** - минимальная температура воздуха за прошедший период (не более 12 часов)\n",
    "14. **Tx** - максимальная температура воздуха за прошедший период (не более 12 часов)\n",
    "15. **Cl** - Солисто-кучевые, кучевые и другие облака\n",
    "16. **Nh** - количество облаков Cl, или Cm при отсутствии Cl облаков\n",
    "17. **H** - ысота основания самых низких облаков\n",
    "18. **Cm** - высококучеые, высокосолистые и прочие облака\n",
    "19. **Ch** - Перистые, перисто-кучевые и прочие облака\n",
    "20. **VV** - горизонтальная дальность видимости\n",
    "21. **Td** - температура точки росы на высоте 2 метра над поерхностью замли\n",
    "22. **RRR** - количество выпавших осадков\n",
    "23. **tR** - период времени за который накопленно указанное количество осадков\n",
    "24. **E** - состояние поверхности почвы\n",
    "25. **Tg** - Минимальная температура поверхности почвы за ночь\n",
    "26. **E'** - состояние почвы со снегом или измеримым ледяным покровом\n",
    "27. **sss** - высота снежного покрова"
   ]
  },
  {
   "cell_type": "code",
   "execution_count": 2,
   "metadata": {
    "scrolled": false
   },
   "outputs": [
    {
     "name": "stdout",
     "output_type": "stream",
     "text": [
      "2920\n"
     ]
    }
   ],
   "source": [
    "df = pd.read_csv('piter2.csv', delimiter=';', error_bad_lines=False, index_col=False)\n",
    "\n",
    "# Переименовываем первый стобец\n",
    "df.rename(columns={'Местное время в Санкт-Петербурге':'date'}, inplace=True)\n",
    "\n",
    "# Конверитруем строковые даты в формат datetime64[ns]\n",
    "df['date'] = pd.to_datetime(df['date'])\n",
    "\n",
    "# Сортируем по дате\n",
    "df = df.sort_values(by='date')\n",
    "df\n",
    "print(len(df.index))"
   ]
  },
  {
   "cell_type": "code",
   "execution_count": 3,
   "metadata": {
    "scrolled": true
   },
   "outputs": [],
   "source": [
    "# Переименовываем значения\n",
    "df = df.replace({'DD' : {\n",
    "    'Штиль, безветрие'                       : 0,\n",
    "    'Ветер, дующий с северо-северо-востока'  : 22.5,\n",
    "    'Ветер, дующий с северо-востока'         : 45,\n",
    "    'Ветер, дующий с востоко-северо-востока' : 67.5,\n",
    "    'Ветер, дующий с востока'                : 90,\n",
    "    'Ветер, дующий с востоко-юго-востока'    : 112.5,\n",
    "    'Ветер, дующий с юго-востока'            : 135,\n",
    "    'Ветер, дующий с юго-юго-востока'        : 157.5,\n",
    "    'Ветер, дующий с юга'                    : 180,\n",
    "    'Ветер, дующий с юго-юго-запада'         : 202.5,\n",
    "    'Ветер, дующий с юго-запада'             : 225,\n",
    "    'Ветер, дующий с западо-юго-запада'      : 247.5,\n",
    "    'Ветер, дующий с запада'                 : 270,\n",
    "    'Ветер, дующий с западо-северо-запада'   : 292.5,\n",
    "    'Ветер, дующий с северо-запада'          : 315,\n",
    "    'Ветер, дующий с северо-северо-запада'   : 337.5,\n",
    "    'Ветер, дующий с севера'                 : 360\n",
    "}})"
   ]
  },
  {
   "cell_type": "code",
   "execution_count": 4,
   "metadata": {
    "scrolled": true
   },
   "outputs": [
    {
     "name": "stdout",
     "output_type": "stream",
     "text": [
      "Общая сумма: 2920, thresh параметр: 1168.0\n",
      "Сумма Nan значений ДО заполнения средними значениями:\n",
      "date    0\n",
      "T       0\n",
      "Po      1\n",
      "P       1\n",
      "Pa      5\n",
      "U       1\n",
      "DD      1\n",
      "Ff      0\n",
      "VV      4\n",
      "Td      1\n",
      "dtype: int64\n"
     ]
    }
   ],
   "source": [
    "# Уберём столбцы, где количсетво пустых значений больше 40%\n",
    "print('Общая сумма: {}, thresh параметр: {}'.format(len(df.index), len(df.index) * 4 / 10))\n",
    "df.dropna(axis=1, thresh=len(df.index) * 4 / 10 , inplace=True)\n",
    "\n",
    "# Так же  убираем лишние столбцы, \n",
    "# данные которых не несут информативности для данной работы \n",
    "_drop = ['N', 'Cl', 'Nh', 'Cm', 'Ch', 'tR', 'RRR', 'H', 'WW']\n",
    "for a in _drop:\n",
    "    df.drop(a, axis=1, inplace=True)\n",
    "\n",
    "# print('Cm:')\n",
    "# print(df['Cm'].value_counts())\n",
    "# print('Cl:')\n",
    "# print(df['Cl'].value_counts())\n",
    "# print('Ch:')\n",
    "# print(df['Ch'].value_counts())\n",
    "# print('N:')\n",
    "# print(df['N'].value_counts())\n",
    "# print('Nh:')\n",
    "# print(df['Nh'].value_counts())\n",
    "# print('H:')\n",
    "# print(df['H'].value_counts())\n",
    "# print('WW:')\n",
    "# print(df['WW'].value_counts())\n",
    "\n",
    "print(\"Сумма Nan значений ДО заполнения средними значениями:\")\n",
    "print( df.isna().sum())"
   ]
  },
  {
   "cell_type": "code",
   "execution_count": 5,
   "metadata": {
    "scrolled": true
   },
   "outputs": [
    {
     "name": "stdout",
     "output_type": "stream",
     "text": [
      "date    0\n",
      "T       0\n",
      "Po      0\n",
      "P       0\n",
      "Pa      0\n",
      "U       0\n",
      "DD      0\n",
      "Ff      0\n",
      "VV      0\n",
      "Td      0\n",
      "dtype: int64\n"
     ]
    },
    {
     "data": {
      "text/html": [
       "<div>\n",
       "<style scoped>\n",
       "    .dataframe tbody tr th:only-of-type {\n",
       "        vertical-align: middle;\n",
       "    }\n",
       "\n",
       "    .dataframe tbody tr th {\n",
       "        vertical-align: top;\n",
       "    }\n",
       "\n",
       "    .dataframe thead th {\n",
       "        text-align: right;\n",
       "    }\n",
       "</style>\n",
       "<table border=\"1\" class=\"dataframe\">\n",
       "  <thead>\n",
       "    <tr style=\"text-align: right;\">\n",
       "      <th></th>\n",
       "      <th>date</th>\n",
       "      <th>T</th>\n",
       "      <th>Po</th>\n",
       "      <th>P</th>\n",
       "      <th>Pa</th>\n",
       "      <th>U</th>\n",
       "      <th>DD</th>\n",
       "      <th>Ff</th>\n",
       "      <th>VV</th>\n",
       "      <th>Td</th>\n",
       "    </tr>\n",
       "  </thead>\n",
       "  <tbody>\n",
       "    <tr>\n",
       "      <th>2919</th>\n",
       "      <td>2018-01-01 00:00:00</td>\n",
       "      <td>0.8</td>\n",
       "      <td>755.6</td>\n",
       "      <td>756.2</td>\n",
       "      <td>-0.5</td>\n",
       "      <td>75.0</td>\n",
       "      <td>157.5</td>\n",
       "      <td>2</td>\n",
       "      <td>10.0</td>\n",
       "      <td>-3.1</td>\n",
       "    </tr>\n",
       "    <tr>\n",
       "      <th>2918</th>\n",
       "      <td>2018-01-01 03:00:00</td>\n",
       "      <td>0.4</td>\n",
       "      <td>754.5</td>\n",
       "      <td>755.1</td>\n",
       "      <td>-1.1</td>\n",
       "      <td>79.0</td>\n",
       "      <td>112.5</td>\n",
       "      <td>3</td>\n",
       "      <td>10.0</td>\n",
       "      <td>-2.9</td>\n",
       "    </tr>\n",
       "    <tr>\n",
       "      <th>2917</th>\n",
       "      <td>2018-01-01 06:00:00</td>\n",
       "      <td>0.0</td>\n",
       "      <td>752.8</td>\n",
       "      <td>753.4</td>\n",
       "      <td>-1.7</td>\n",
       "      <td>82.0</td>\n",
       "      <td>112.5</td>\n",
       "      <td>2</td>\n",
       "      <td>10.0</td>\n",
       "      <td>-2.8</td>\n",
       "    </tr>\n",
       "    <tr>\n",
       "      <th>2916</th>\n",
       "      <td>2018-01-01 09:00:00</td>\n",
       "      <td>-0.5</td>\n",
       "      <td>751.1</td>\n",
       "      <td>751.7</td>\n",
       "      <td>-1.7</td>\n",
       "      <td>94.0</td>\n",
       "      <td>112.5</td>\n",
       "      <td>2</td>\n",
       "      <td>4.0</td>\n",
       "      <td>-1.3</td>\n",
       "    </tr>\n",
       "    <tr>\n",
       "      <th>2915</th>\n",
       "      <td>2018-01-01 12:00:00</td>\n",
       "      <td>0.0</td>\n",
       "      <td>750.1</td>\n",
       "      <td>750.7</td>\n",
       "      <td>-1.0</td>\n",
       "      <td>94.0</td>\n",
       "      <td>112.5</td>\n",
       "      <td>2</td>\n",
       "      <td>2.0</td>\n",
       "      <td>-0.8</td>\n",
       "    </tr>\n",
       "    <tr>\n",
       "      <th>...</th>\n",
       "      <td>...</td>\n",
       "      <td>...</td>\n",
       "      <td>...</td>\n",
       "      <td>...</td>\n",
       "      <td>...</td>\n",
       "      <td>...</td>\n",
       "      <td>...</td>\n",
       "      <td>...</td>\n",
       "      <td>...</td>\n",
       "      <td>...</td>\n",
       "    </tr>\n",
       "    <tr>\n",
       "      <th>4</th>\n",
       "      <td>2018-12-31 09:00:00</td>\n",
       "      <td>-1.6</td>\n",
       "      <td>767.5</td>\n",
       "      <td>768.1</td>\n",
       "      <td>1.2</td>\n",
       "      <td>70.0</td>\n",
       "      <td>45.0</td>\n",
       "      <td>1</td>\n",
       "      <td>10.0</td>\n",
       "      <td>-6.4</td>\n",
       "    </tr>\n",
       "    <tr>\n",
       "      <th>3</th>\n",
       "      <td>2018-12-31 12:00:00</td>\n",
       "      <td>-1.8</td>\n",
       "      <td>768.4</td>\n",
       "      <td>769.0</td>\n",
       "      <td>0.9</td>\n",
       "      <td>73.0</td>\n",
       "      <td>337.5</td>\n",
       "      <td>1</td>\n",
       "      <td>10.0</td>\n",
       "      <td>-6.0</td>\n",
       "    </tr>\n",
       "    <tr>\n",
       "      <th>2</th>\n",
       "      <td>2018-12-31 15:00:00</td>\n",
       "      <td>-2.1</td>\n",
       "      <td>768.0</td>\n",
       "      <td>768.6</td>\n",
       "      <td>-0.4</td>\n",
       "      <td>73.0</td>\n",
       "      <td>292.5</td>\n",
       "      <td>1</td>\n",
       "      <td>10.0</td>\n",
       "      <td>-6.4</td>\n",
       "    </tr>\n",
       "    <tr>\n",
       "      <th>1</th>\n",
       "      <td>2018-12-31 18:00:00</td>\n",
       "      <td>-3.2</td>\n",
       "      <td>766.8</td>\n",
       "      <td>767.5</td>\n",
       "      <td>-1.2</td>\n",
       "      <td>81.0</td>\n",
       "      <td>225.0</td>\n",
       "      <td>2</td>\n",
       "      <td>10.0</td>\n",
       "      <td>-6.0</td>\n",
       "    </tr>\n",
       "    <tr>\n",
       "      <th>0</th>\n",
       "      <td>2018-12-31 21:00:00</td>\n",
       "      <td>-2.5</td>\n",
       "      <td>764.8</td>\n",
       "      <td>765.3</td>\n",
       "      <td>-2.0</td>\n",
       "      <td>75.0</td>\n",
       "      <td>180.0</td>\n",
       "      <td>3</td>\n",
       "      <td>10.0</td>\n",
       "      <td>-6.3</td>\n",
       "    </tr>\n",
       "  </tbody>\n",
       "</table>\n",
       "<p>2920 rows × 10 columns</p>\n",
       "</div>"
      ],
      "text/plain": [
       "                    date    T     Po      P   Pa     U     DD  Ff    VV   Td\n",
       "2919 2018-01-01 00:00:00  0.8  755.6  756.2 -0.5  75.0  157.5   2  10.0 -3.1\n",
       "2918 2018-01-01 03:00:00  0.4  754.5  755.1 -1.1  79.0  112.5   3  10.0 -2.9\n",
       "2917 2018-01-01 06:00:00  0.0  752.8  753.4 -1.7  82.0  112.5   2  10.0 -2.8\n",
       "2916 2018-01-01 09:00:00 -0.5  751.1  751.7 -1.7  94.0  112.5   2   4.0 -1.3\n",
       "2915 2018-01-01 12:00:00  0.0  750.1  750.7 -1.0  94.0  112.5   2   2.0 -0.8\n",
       "...                  ...  ...    ...    ...  ...   ...    ...  ..   ...  ...\n",
       "4    2018-12-31 09:00:00 -1.6  767.5  768.1  1.2  70.0   45.0   1  10.0 -6.4\n",
       "3    2018-12-31 12:00:00 -1.8  768.4  769.0  0.9  73.0  337.5   1  10.0 -6.0\n",
       "2    2018-12-31 15:00:00 -2.1  768.0  768.6 -0.4  73.0  292.5   1  10.0 -6.4\n",
       "1    2018-12-31 18:00:00 -3.2  766.8  767.5 -1.2  81.0  225.0   2  10.0 -6.0\n",
       "0    2018-12-31 21:00:00 -2.5  764.8  765.3 -2.0  75.0  180.0   3  10.0 -6.3\n",
       "\n",
       "[2920 rows x 10 columns]"
      ]
     },
     "execution_count": 5,
     "metadata": {},
     "output_type": "execute_result"
    }
   ],
   "source": [
    "columns = list(df)\n",
    "columns.remove('date')\n",
    "\n",
    "# Заполняем средними значениями\n",
    "for a in columns:\n",
    "    df[a].fillna(df[a].groupby([df.date.dt.year, df.date.dt.month]).transform('mean'), inplace=True)\n",
    "print( df.isna().sum())\n",
    "df"
   ]
  },
  {
   "cell_type": "markdown",
   "metadata": {},
   "source": [
    "## Шаг 2\n",
    "Вывод диаграмм **температуры** по месяцам"
   ]
  },
  {
   "cell_type": "code",
   "execution_count": 6,
   "metadata": {
    "scrolled": false
   },
   "outputs": [],
   "source": [
    "months = ['January', 'Febrary', 'March', 'April', 'May', 'Jule', \n",
    "          'July', 'August', 'September', 'October', 'November', 'December']\n",
    "plot_value = 'T'\n",
    "for month_ in months: \n",
    "    to_plot = df[['date', plot_value]]\n",
    "    to_plot = to_plot[to_plot.date.dt.month == (months.index(month_) + 1)]\n",
    "    to_plot.plot(title='Temerature in {}'.format(month_), x='date', y=plot_value, figsize=(9,6), grid=True)"
   ]
  },
  {
   "cell_type": "markdown",
   "metadata": {},
   "source": [
    "# Шаг 3\n",
    "Расчёт дисперисии, среднеквадратического отклонения и мат. ожидания"
   ]
  },
  {
   "cell_type": "markdown",
   "metadata": {},
   "source": [
    "$ \\bar{X} = \\frac{\\sum x_i} {N}$ - среднее арифметическое"
   ]
  },
  {
   "cell_type": "markdown",
   "metadata": {},
   "source": [
    "$ D = \\frac{\\sum (x_i - \\bar{x})^2} {N}$ - дисперсия"
   ]
  },
  {
   "cell_type": "markdown",
   "metadata": {},
   "source": [
    "$ \\sigma = \\sqrt{D}$ - cреднеквадратическое отклонение"
   ]
  },
  {
   "cell_type": "code",
   "execution_count": 7,
   "metadata": {
    "scrolled": false
   },
   "outputs": [
    {
     "data": {
      "text/markdown": [
       "### Значения для **T**"
      ],
      "text/plain": [
       "<IPython.core.display.Markdown object>"
      ]
     },
     "metadata": {},
     "output_type": "display_data"
    },
    {
     "name": "stdout",
     "output_type": "stream",
     "text": [
      "Среднее арифметическое: 7.072\n"
     ]
    },
    {
     "data": {
      "text/markdown": [
       "Среднее арифметическое **Pandas**: 7.072"
      ],
      "text/plain": [
       "<IPython.core.display.Markdown object>"
      ]
     },
     "metadata": {},
     "output_type": "display_data"
    },
    {
     "name": "stdout",
     "output_type": "stream",
     "text": [
      "Дисперсия 112.665\n"
     ]
    },
    {
     "data": {
      "text/markdown": [
       "Дисперсия **Pandas**: 112.703"
      ],
      "text/plain": [
       "<IPython.core.display.Markdown object>"
      ]
     },
     "metadata": {},
     "output_type": "display_data"
    },
    {
     "name": "stdout",
     "output_type": "stream",
     "text": [
      "Среднеквадратическое отклонение: 10.614\n"
     ]
    },
    {
     "data": {
      "text/markdown": [
       "Среднеквадратическое отклонение **Pandas**: 10.616"
      ],
      "text/plain": [
       "<IPython.core.display.Markdown object>"
      ]
     },
     "metadata": {},
     "output_type": "display_data"
    },
    {
     "data": {
      "text/markdown": [
       "---"
      ],
      "text/plain": [
       "<IPython.core.display.Markdown object>"
      ]
     },
     "metadata": {},
     "output_type": "display_data"
    },
    {
     "data": {
      "text/markdown": [
       "### Значения для **Po**"
      ],
      "text/plain": [
       "<IPython.core.display.Markdown object>"
      ]
     },
     "metadata": {},
     "output_type": "display_data"
    },
    {
     "name": "stdout",
     "output_type": "stream",
     "text": [
      "Среднее арифметическое: 761.487\n"
     ]
    },
    {
     "data": {
      "text/markdown": [
       "Среднее арифметическое **Pandas**: 761.487"
      ],
      "text/plain": [
       "<IPython.core.display.Markdown object>"
      ]
     },
     "metadata": {},
     "output_type": "display_data"
    },
    {
     "name": "stdout",
     "output_type": "stream",
     "text": [
      "Дисперсия 60.532\n"
     ]
    },
    {
     "data": {
      "text/markdown": [
       "Дисперсия **Pandas**: 60.552"
      ],
      "text/plain": [
       "<IPython.core.display.Markdown object>"
      ]
     },
     "metadata": {},
     "output_type": "display_data"
    },
    {
     "name": "stdout",
     "output_type": "stream",
     "text": [
      "Среднеквадратическое отклонение: 7.78\n"
     ]
    },
    {
     "data": {
      "text/markdown": [
       "Среднеквадратическое отклонение **Pandas**: 7.782"
      ],
      "text/plain": [
       "<IPython.core.display.Markdown object>"
      ]
     },
     "metadata": {},
     "output_type": "display_data"
    },
    {
     "data": {
      "text/markdown": [
       "---"
      ],
      "text/plain": [
       "<IPython.core.display.Markdown object>"
      ]
     },
     "metadata": {},
     "output_type": "display_data"
    },
    {
     "data": {
      "text/markdown": [
       "### Значения для **P**"
      ],
      "text/plain": [
       "<IPython.core.display.Markdown object>"
      ]
     },
     "metadata": {},
     "output_type": "display_data"
    },
    {
     "name": "stdout",
     "output_type": "stream",
     "text": [
      "Среднее арифметическое: 762.056\n"
     ]
    },
    {
     "data": {
      "text/markdown": [
       "Среднее арифметическое **Pandas**: 762.056"
      ],
      "text/plain": [
       "<IPython.core.display.Markdown object>"
      ]
     },
     "metadata": {},
     "output_type": "display_data"
    },
    {
     "name": "stdout",
     "output_type": "stream",
     "text": [
      "Дисперсия 60.697\n"
     ]
    },
    {
     "data": {
      "text/markdown": [
       "Дисперсия **Pandas**: 60.717"
      ],
      "text/plain": [
       "<IPython.core.display.Markdown object>"
      ]
     },
     "metadata": {},
     "output_type": "display_data"
    },
    {
     "name": "stdout",
     "output_type": "stream",
     "text": [
      "Среднеквадратическое отклонение: 7.791\n"
     ]
    },
    {
     "data": {
      "text/markdown": [
       "Среднеквадратическое отклонение **Pandas**: 7.792"
      ],
      "text/plain": [
       "<IPython.core.display.Markdown object>"
      ]
     },
     "metadata": {},
     "output_type": "display_data"
    },
    {
     "data": {
      "text/markdown": [
       "---"
      ],
      "text/plain": [
       "<IPython.core.display.Markdown object>"
      ]
     },
     "metadata": {},
     "output_type": "display_data"
    },
    {
     "data": {
      "text/markdown": [
       "### Значения для **Pa**"
      ],
      "text/plain": [
       "<IPython.core.display.Markdown object>"
      ]
     },
     "metadata": {},
     "output_type": "display_data"
    },
    {
     "name": "stdout",
     "output_type": "stream",
     "text": [
      "Среднее арифметическое: 0.003\n"
     ]
    },
    {
     "data": {
      "text/markdown": [
       "Среднее арифметическое **Pandas**: 0.003"
      ],
      "text/plain": [
       "<IPython.core.display.Markdown object>"
      ]
     },
     "metadata": {},
     "output_type": "display_data"
    },
    {
     "name": "stdout",
     "output_type": "stream",
     "text": [
      "Дисперсия 0.882\n"
     ]
    },
    {
     "data": {
      "text/markdown": [
       "Дисперсия **Pandas**: 0.882"
      ],
      "text/plain": [
       "<IPython.core.display.Markdown object>"
      ]
     },
     "metadata": {},
     "output_type": "display_data"
    },
    {
     "name": "stdout",
     "output_type": "stream",
     "text": [
      "Среднеквадратическое отклонение: 0.939\n"
     ]
    },
    {
     "data": {
      "text/markdown": [
       "Среднеквадратическое отклонение **Pandas**: 0.939"
      ],
      "text/plain": [
       "<IPython.core.display.Markdown object>"
      ]
     },
     "metadata": {},
     "output_type": "display_data"
    },
    {
     "data": {
      "text/markdown": [
       "---"
      ],
      "text/plain": [
       "<IPython.core.display.Markdown object>"
      ]
     },
     "metadata": {},
     "output_type": "display_data"
    },
    {
     "data": {
      "text/markdown": [
       "### Значения для **U**"
      ],
      "text/plain": [
       "<IPython.core.display.Markdown object>"
      ]
     },
     "metadata": {},
     "output_type": "display_data"
    },
    {
     "name": "stdout",
     "output_type": "stream",
     "text": [
      "Среднее арифметическое: 72.643\n"
     ]
    },
    {
     "data": {
      "text/markdown": [
       "Среднее арифметическое **Pandas**: 72.643"
      ],
      "text/plain": [
       "<IPython.core.display.Markdown object>"
      ]
     },
     "metadata": {},
     "output_type": "display_data"
    },
    {
     "name": "stdout",
     "output_type": "stream",
     "text": [
      "Дисперсия 309.345\n"
     ]
    },
    {
     "data": {
      "text/markdown": [
       "Дисперсия **Pandas**: 309.451"
      ],
      "text/plain": [
       "<IPython.core.display.Markdown object>"
      ]
     },
     "metadata": {},
     "output_type": "display_data"
    },
    {
     "name": "stdout",
     "output_type": "stream",
     "text": [
      "Среднеквадратическое отклонение: 17.588\n"
     ]
    },
    {
     "data": {
      "text/markdown": [
       "Среднеквадратическое отклонение **Pandas**: 17.591"
      ],
      "text/plain": [
       "<IPython.core.display.Markdown object>"
      ]
     },
     "metadata": {},
     "output_type": "display_data"
    },
    {
     "data": {
      "text/markdown": [
       "---"
      ],
      "text/plain": [
       "<IPython.core.display.Markdown object>"
      ]
     },
     "metadata": {},
     "output_type": "display_data"
    },
    {
     "data": {
      "text/markdown": [
       "### Значения для **DD**"
      ],
      "text/plain": [
       "<IPython.core.display.Markdown object>"
      ]
     },
     "metadata": {},
     "output_type": "display_data"
    },
    {
     "name": "stdout",
     "output_type": "stream",
     "text": [
      "Среднее арифметическое: 168.188\n"
     ]
    },
    {
     "data": {
      "text/markdown": [
       "Среднее арифметическое **Pandas**: 168.188"
      ],
      "text/plain": [
       "<IPython.core.display.Markdown object>"
      ]
     },
     "metadata": {},
     "output_type": "display_data"
    },
    {
     "name": "stdout",
     "output_type": "stream",
     "text": [
      "Дисперсия 11533.835\n"
     ]
    },
    {
     "data": {
      "text/markdown": [
       "Дисперсия **Pandas**: 11537.787"
      ],
      "text/plain": [
       "<IPython.core.display.Markdown object>"
      ]
     },
     "metadata": {},
     "output_type": "display_data"
    },
    {
     "name": "stdout",
     "output_type": "stream",
     "text": [
      "Среднеквадратическое отклонение: 107.396\n"
     ]
    },
    {
     "data": {
      "text/markdown": [
       "Среднеквадратическое отклонение **Pandas**: 107.414"
      ],
      "text/plain": [
       "<IPython.core.display.Markdown object>"
      ]
     },
     "metadata": {},
     "output_type": "display_data"
    },
    {
     "data": {
      "text/markdown": [
       "---"
      ],
      "text/plain": [
       "<IPython.core.display.Markdown object>"
      ]
     },
     "metadata": {},
     "output_type": "display_data"
    },
    {
     "data": {
      "text/markdown": [
       "### Значения для **Ff**"
      ],
      "text/plain": [
       "<IPython.core.display.Markdown object>"
      ]
     },
     "metadata": {},
     "output_type": "display_data"
    },
    {
     "name": "stdout",
     "output_type": "stream",
     "text": [
      "Среднее арифметическое: 1.851\n"
     ]
    },
    {
     "data": {
      "text/markdown": [
       "Среднее арифметическое **Pandas**: 1.851"
      ],
      "text/plain": [
       "<IPython.core.display.Markdown object>"
      ]
     },
     "metadata": {},
     "output_type": "display_data"
    },
    {
     "name": "stdout",
     "output_type": "stream",
     "text": [
      "Дисперсия 1.28\n"
     ]
    },
    {
     "data": {
      "text/markdown": [
       "Дисперсия **Pandas**: 1.281"
      ],
      "text/plain": [
       "<IPython.core.display.Markdown object>"
      ]
     },
     "metadata": {},
     "output_type": "display_data"
    },
    {
     "name": "stdout",
     "output_type": "stream",
     "text": [
      "Среднеквадратическое отклонение: 1.131\n"
     ]
    },
    {
     "data": {
      "text/markdown": [
       "Среднеквадратическое отклонение **Pandas**: 1.132"
      ],
      "text/plain": [
       "<IPython.core.display.Markdown object>"
      ]
     },
     "metadata": {},
     "output_type": "display_data"
    },
    {
     "data": {
      "text/markdown": [
       "---"
      ],
      "text/plain": [
       "<IPython.core.display.Markdown object>"
      ]
     },
     "metadata": {},
     "output_type": "display_data"
    },
    {
     "data": {
      "text/markdown": [
       "### Значения для **VV**"
      ],
      "text/plain": [
       "<IPython.core.display.Markdown object>"
      ]
     },
     "metadata": {},
     "output_type": "display_data"
    },
    {
     "name": "stdout",
     "output_type": "stream",
     "text": [
      "Среднее арифметическое: 9.379\n"
     ]
    },
    {
     "data": {
      "text/markdown": [
       "Среднее арифметическое **Pandas**: 9.379"
      ],
      "text/plain": [
       "<IPython.core.display.Markdown object>"
      ]
     },
     "metadata": {},
     "output_type": "display_data"
    },
    {
     "name": "stdout",
     "output_type": "stream",
     "text": [
      "Дисперсия 4.835\n"
     ]
    },
    {
     "data": {
      "text/markdown": [
       "Дисперсия **Pandas**: 4.837"
      ],
      "text/plain": [
       "<IPython.core.display.Markdown object>"
      ]
     },
     "metadata": {},
     "output_type": "display_data"
    },
    {
     "name": "stdout",
     "output_type": "stream",
     "text": [
      "Среднеквадратическое отклонение: 2.199\n"
     ]
    },
    {
     "data": {
      "text/markdown": [
       "Среднеквадратическое отклонение **Pandas**: 2.199"
      ],
      "text/plain": [
       "<IPython.core.display.Markdown object>"
      ]
     },
     "metadata": {},
     "output_type": "display_data"
    },
    {
     "data": {
      "text/markdown": [
       "---"
      ],
      "text/plain": [
       "<IPython.core.display.Markdown object>"
      ]
     },
     "metadata": {},
     "output_type": "display_data"
    },
    {
     "data": {
      "text/markdown": [
       "### Значения для **Td**"
      ],
      "text/plain": [
       "<IPython.core.display.Markdown object>"
      ]
     },
     "metadata": {},
     "output_type": "display_data"
    },
    {
     "name": "stdout",
     "output_type": "stream",
     "text": [
      "Среднее арифметическое: 1.804\n"
     ]
    },
    {
     "data": {
      "text/markdown": [
       "Среднее арифметическое **Pandas**: 1.804"
      ],
      "text/plain": [
       "<IPython.core.display.Markdown object>"
      ]
     },
     "metadata": {},
     "output_type": "display_data"
    },
    {
     "name": "stdout",
     "output_type": "stream",
     "text": [
      "Дисперсия 82.782\n"
     ]
    },
    {
     "data": {
      "text/markdown": [
       "Дисперсия **Pandas**: 82.81"
      ],
      "text/plain": [
       "<IPython.core.display.Markdown object>"
      ]
     },
     "metadata": {},
     "output_type": "display_data"
    },
    {
     "name": "stdout",
     "output_type": "stream",
     "text": [
      "Среднеквадратическое отклонение: 9.098\n"
     ]
    },
    {
     "data": {
      "text/markdown": [
       "Среднеквадратическое отклонение **Pandas**: 9.1"
      ],
      "text/plain": [
       "<IPython.core.display.Markdown object>"
      ]
     },
     "metadata": {},
     "output_type": "display_data"
    },
    {
     "data": {
      "text/markdown": [
       "---"
      ],
      "text/plain": [
       "<IPython.core.display.Markdown object>"
      ]
     },
     "metadata": {},
     "output_type": "display_data"
    }
   ],
   "source": [
    "columns = list(df)\n",
    "columns.remove('date')\n",
    "for col in columns:\n",
    "    printmd('### Значения для **{}**'.format(col))\n",
    "    \n",
    "    n = len(df[col].index)\n",
    "    # Среднее арифметическое\n",
    "    summ = sum(df[col])\n",
    "    mean = summ / n\n",
    "    print('Среднее арифметическое: {}'.format(round(mean, 3)))\n",
    "    printmd('Среднее арифметическое **Pandas**: {}'.format(round(df[col].mean(), 3)))\n",
    "    \n",
    "    # Дисперсия\n",
    "    sq_summ = sum([(x - mean)**2 for x in df[col]])\n",
    "    dispersion = sq_summ / n\n",
    "    print('Дисперсия {}'.format(round(dispersion, 3)))\n",
    "    printmd('Дисперсия **Pandas**: {}'.format(round(df[col].var(), 3)))\n",
    "    \n",
    "    # Среднеквадратическое отклонение\n",
    "    sq_dv = math.sqrt(dispersion)\n",
    "    print('Среднеквадратическое отклонение: {}'.format(round(sq_dv, 3)))\n",
    "    printmd('Среднеквадратическое отклонение **Pandas**: {}'.format(round(df[col].std(), 3)))\n",
    "\n",
    "    printmd('---')   "
   ]
  },
  {
   "cell_type": "markdown",
   "metadata": {},
   "source": [
    "# Шаг 4\n",
    "расчёт корреляции"
   ]
  },
  {
   "cell_type": "markdown",
   "metadata": {},
   "source": [
    "$ r_{xy} = \\frac {\\sum (x_i - \\bar{x}) * (y_i - \\bar{y})} {\\sqrt {\\sum (x_i - \\bar{x})^2 * (y_i - \\bar{y})^2}}$"
   ]
  },
  {
   "cell_type": "code",
   "execution_count": 8,
   "metadata": {
    "scrolled": true
   },
   "outputs": [
    {
     "data": {
      "text/markdown": [
       "### Ручная корреляция"
      ],
      "text/plain": [
       "<IPython.core.display.Markdown object>"
      ]
     },
     "metadata": {},
     "output_type": "display_data"
    },
    {
     "data": {
      "text/html": [
       "<div>\n",
       "<style scoped>\n",
       "    .dataframe tbody tr th:only-of-type {\n",
       "        vertical-align: middle;\n",
       "    }\n",
       "\n",
       "    .dataframe tbody tr th {\n",
       "        vertical-align: top;\n",
       "    }\n",
       "\n",
       "    .dataframe thead th {\n",
       "        text-align: right;\n",
       "    }\n",
       "</style>\n",
       "<table border=\"1\" class=\"dataframe\">\n",
       "  <thead>\n",
       "    <tr style=\"text-align: right;\">\n",
       "      <th></th>\n",
       "      <th>T</th>\n",
       "      <th>Po</th>\n",
       "      <th>P</th>\n",
       "      <th>Pa</th>\n",
       "      <th>U</th>\n",
       "      <th>DD</th>\n",
       "      <th>Ff</th>\n",
       "      <th>VV</th>\n",
       "      <th>Td</th>\n",
       "    </tr>\n",
       "  </thead>\n",
       "  <tbody>\n",
       "    <tr>\n",
       "      <th>T</th>\n",
       "      <td>1.000000</td>\n",
       "      <td>-0.144068</td>\n",
       "      <td>-0.147397</td>\n",
       "      <td>-0.065869</td>\n",
       "      <td>-0.453882</td>\n",
       "      <td>0.047337</td>\n",
       "      <td>0.013610</td>\n",
       "      <td>0.157905</td>\n",
       "      <td>0.900470</td>\n",
       "    </tr>\n",
       "    <tr>\n",
       "      <th>Po</th>\n",
       "      <td>-0.144068</td>\n",
       "      <td>1.000000</td>\n",
       "      <td>0.999810</td>\n",
       "      <td>0.060222</td>\n",
       "      <td>-0.126077</td>\n",
       "      <td>-0.164079</td>\n",
       "      <td>-0.238574</td>\n",
       "      <td>0.114984</td>\n",
       "      <td>-0.227180</td>\n",
       "    </tr>\n",
       "    <tr>\n",
       "      <th>P</th>\n",
       "      <td>-0.147397</td>\n",
       "      <td>0.999810</td>\n",
       "      <td>1.000000</td>\n",
       "      <td>0.057043</td>\n",
       "      <td>-0.124522</td>\n",
       "      <td>-0.164046</td>\n",
       "      <td>-0.238201</td>\n",
       "      <td>0.114489</td>\n",
       "      <td>-0.230138</td>\n",
       "    </tr>\n",
       "    <tr>\n",
       "      <th>Pa</th>\n",
       "      <td>-0.065869</td>\n",
       "      <td>0.060222</td>\n",
       "      <td>0.057043</td>\n",
       "      <td>1.000000</td>\n",
       "      <td>0.061886</td>\n",
       "      <td>0.068705</td>\n",
       "      <td>-0.055147</td>\n",
       "      <td>0.070058</td>\n",
       "      <td>-0.035144</td>\n",
       "    </tr>\n",
       "    <tr>\n",
       "      <th>U</th>\n",
       "      <td>-0.453882</td>\n",
       "      <td>-0.126077</td>\n",
       "      <td>-0.124522</td>\n",
       "      <td>0.061886</td>\n",
       "      <td>1.000000</td>\n",
       "      <td>0.002524</td>\n",
       "      <td>-0.078835</td>\n",
       "      <td>-0.257270</td>\n",
       "      <td>-0.032583</td>\n",
       "    </tr>\n",
       "    <tr>\n",
       "      <th>DD</th>\n",
       "      <td>0.047337</td>\n",
       "      <td>-0.164079</td>\n",
       "      <td>-0.164046</td>\n",
       "      <td>0.068705</td>\n",
       "      <td>0.002524</td>\n",
       "      <td>1.000000</td>\n",
       "      <td>0.429084</td>\n",
       "      <td>0.011835</td>\n",
       "      <td>0.057032</td>\n",
       "    </tr>\n",
       "    <tr>\n",
       "      <th>Ff</th>\n",
       "      <td>0.013610</td>\n",
       "      <td>-0.238574</td>\n",
       "      <td>-0.238201</td>\n",
       "      <td>-0.055147</td>\n",
       "      <td>-0.078835</td>\n",
       "      <td>0.429084</td>\n",
       "      <td>1.000000</td>\n",
       "      <td>-0.002370</td>\n",
       "      <td>-0.011138</td>\n",
       "    </tr>\n",
       "    <tr>\n",
       "      <th>VV</th>\n",
       "      <td>0.157905</td>\n",
       "      <td>0.114984</td>\n",
       "      <td>0.114489</td>\n",
       "      <td>0.070058</td>\n",
       "      <td>-0.257270</td>\n",
       "      <td>0.011835</td>\n",
       "      <td>-0.002370</td>\n",
       "      <td>1.000000</td>\n",
       "      <td>0.073438</td>\n",
       "    </tr>\n",
       "    <tr>\n",
       "      <th>Td</th>\n",
       "      <td>0.900470</td>\n",
       "      <td>-0.227180</td>\n",
       "      <td>-0.230138</td>\n",
       "      <td>-0.035144</td>\n",
       "      <td>-0.032583</td>\n",
       "      <td>0.057032</td>\n",
       "      <td>-0.011138</td>\n",
       "      <td>0.073438</td>\n",
       "      <td>1.000000</td>\n",
       "    </tr>\n",
       "  </tbody>\n",
       "</table>\n",
       "</div>"
      ],
      "text/plain": [
       "           T        Po         P        Pa         U        DD        Ff  \\\n",
       "T   1.000000 -0.144068 -0.147397 -0.065869 -0.453882  0.047337  0.013610   \n",
       "Po -0.144068  1.000000  0.999810  0.060222 -0.126077 -0.164079 -0.238574   \n",
       "P  -0.147397  0.999810  1.000000  0.057043 -0.124522 -0.164046 -0.238201   \n",
       "Pa -0.065869  0.060222  0.057043  1.000000  0.061886  0.068705 -0.055147   \n",
       "U  -0.453882 -0.126077 -0.124522  0.061886  1.000000  0.002524 -0.078835   \n",
       "DD  0.047337 -0.164079 -0.164046  0.068705  0.002524  1.000000  0.429084   \n",
       "Ff  0.013610 -0.238574 -0.238201 -0.055147 -0.078835  0.429084  1.000000   \n",
       "VV  0.157905  0.114984  0.114489  0.070058 -0.257270  0.011835 -0.002370   \n",
       "Td  0.900470 -0.227180 -0.230138 -0.035144 -0.032583  0.057032 -0.011138   \n",
       "\n",
       "          VV        Td  \n",
       "T   0.157905  0.900470  \n",
       "Po  0.114984 -0.227180  \n",
       "P   0.114489 -0.230138  \n",
       "Pa  0.070058 -0.035144  \n",
       "U  -0.257270 -0.032583  \n",
       "DD  0.011835  0.057032  \n",
       "Ff -0.002370 -0.011138  \n",
       "VV  1.000000  0.073438  \n",
       "Td  0.073438  1.000000  "
      ]
     },
     "execution_count": 8,
     "metadata": {},
     "output_type": "execute_result"
    }
   ],
   "source": [
    "columns = list(df)\n",
    "columns.remove('date')\n",
    "f = 'T'\n",
    "s = 'Po'\n",
    "corr = pd.DataFrame(index= columns)\n",
    "for f in columns:\n",
    "    t = []\n",
    "    for s in columns:\n",
    "        summ_1 =  sum(np.array(df[f] - df[f].mean()) * np.array(df[s] - df[s].mean()))\n",
    "        summ_2 = math.sqrt(sum(pow(np.array(df[f] - df[f].mean()), 2)) *\n",
    "                           sum(pow(np.array(df[s] - df[s].mean()), 2)))\n",
    "        t.append(summ_1 / summ_2)\n",
    "    corr[f] = t\n",
    "printmd(\"### Ручная корреляция\")     \n",
    "corr"
   ]
  },
  {
   "cell_type": "code",
   "execution_count": 9,
   "metadata": {
    "scrolled": true
   },
   "outputs": [
    {
     "data": {
      "text/markdown": [
       "### Pandas корреляция"
      ],
      "text/plain": [
       "<IPython.core.display.Markdown object>"
      ]
     },
     "metadata": {},
     "output_type": "display_data"
    },
    {
     "data": {
      "text/html": [
       "<div>\n",
       "<style scoped>\n",
       "    .dataframe tbody tr th:only-of-type {\n",
       "        vertical-align: middle;\n",
       "    }\n",
       "\n",
       "    .dataframe tbody tr th {\n",
       "        vertical-align: top;\n",
       "    }\n",
       "\n",
       "    .dataframe thead th {\n",
       "        text-align: right;\n",
       "    }\n",
       "</style>\n",
       "<table border=\"1\" class=\"dataframe\">\n",
       "  <thead>\n",
       "    <tr style=\"text-align: right;\">\n",
       "      <th></th>\n",
       "      <th>T</th>\n",
       "      <th>Po</th>\n",
       "      <th>P</th>\n",
       "      <th>Pa</th>\n",
       "      <th>U</th>\n",
       "      <th>DD</th>\n",
       "      <th>Ff</th>\n",
       "      <th>VV</th>\n",
       "      <th>Td</th>\n",
       "    </tr>\n",
       "  </thead>\n",
       "  <tbody>\n",
       "    <tr>\n",
       "      <th>T</th>\n",
       "      <td>1.000000</td>\n",
       "      <td>-0.144068</td>\n",
       "      <td>-0.147397</td>\n",
       "      <td>-0.065869</td>\n",
       "      <td>-0.453882</td>\n",
       "      <td>0.047337</td>\n",
       "      <td>0.013610</td>\n",
       "      <td>0.157905</td>\n",
       "      <td>0.900470</td>\n",
       "    </tr>\n",
       "    <tr>\n",
       "      <th>Po</th>\n",
       "      <td>-0.144068</td>\n",
       "      <td>1.000000</td>\n",
       "      <td>0.999810</td>\n",
       "      <td>0.060222</td>\n",
       "      <td>-0.126077</td>\n",
       "      <td>-0.164079</td>\n",
       "      <td>-0.238574</td>\n",
       "      <td>0.114984</td>\n",
       "      <td>-0.227180</td>\n",
       "    </tr>\n",
       "    <tr>\n",
       "      <th>P</th>\n",
       "      <td>-0.147397</td>\n",
       "      <td>0.999810</td>\n",
       "      <td>1.000000</td>\n",
       "      <td>0.057043</td>\n",
       "      <td>-0.124522</td>\n",
       "      <td>-0.164046</td>\n",
       "      <td>-0.238201</td>\n",
       "      <td>0.114489</td>\n",
       "      <td>-0.230138</td>\n",
       "    </tr>\n",
       "    <tr>\n",
       "      <th>Pa</th>\n",
       "      <td>-0.065869</td>\n",
       "      <td>0.060222</td>\n",
       "      <td>0.057043</td>\n",
       "      <td>1.000000</td>\n",
       "      <td>0.061886</td>\n",
       "      <td>0.068705</td>\n",
       "      <td>-0.055147</td>\n",
       "      <td>0.070058</td>\n",
       "      <td>-0.035144</td>\n",
       "    </tr>\n",
       "    <tr>\n",
       "      <th>U</th>\n",
       "      <td>-0.453882</td>\n",
       "      <td>-0.126077</td>\n",
       "      <td>-0.124522</td>\n",
       "      <td>0.061886</td>\n",
       "      <td>1.000000</td>\n",
       "      <td>0.002524</td>\n",
       "      <td>-0.078835</td>\n",
       "      <td>-0.257270</td>\n",
       "      <td>-0.032583</td>\n",
       "    </tr>\n",
       "    <tr>\n",
       "      <th>DD</th>\n",
       "      <td>0.047337</td>\n",
       "      <td>-0.164079</td>\n",
       "      <td>-0.164046</td>\n",
       "      <td>0.068705</td>\n",
       "      <td>0.002524</td>\n",
       "      <td>1.000000</td>\n",
       "      <td>0.429084</td>\n",
       "      <td>0.011835</td>\n",
       "      <td>0.057032</td>\n",
       "    </tr>\n",
       "    <tr>\n",
       "      <th>Ff</th>\n",
       "      <td>0.013610</td>\n",
       "      <td>-0.238574</td>\n",
       "      <td>-0.238201</td>\n",
       "      <td>-0.055147</td>\n",
       "      <td>-0.078835</td>\n",
       "      <td>0.429084</td>\n",
       "      <td>1.000000</td>\n",
       "      <td>-0.002370</td>\n",
       "      <td>-0.011138</td>\n",
       "    </tr>\n",
       "    <tr>\n",
       "      <th>VV</th>\n",
       "      <td>0.157905</td>\n",
       "      <td>0.114984</td>\n",
       "      <td>0.114489</td>\n",
       "      <td>0.070058</td>\n",
       "      <td>-0.257270</td>\n",
       "      <td>0.011835</td>\n",
       "      <td>-0.002370</td>\n",
       "      <td>1.000000</td>\n",
       "      <td>0.073438</td>\n",
       "    </tr>\n",
       "    <tr>\n",
       "      <th>Td</th>\n",
       "      <td>0.900470</td>\n",
       "      <td>-0.227180</td>\n",
       "      <td>-0.230138</td>\n",
       "      <td>-0.035144</td>\n",
       "      <td>-0.032583</td>\n",
       "      <td>0.057032</td>\n",
       "      <td>-0.011138</td>\n",
       "      <td>0.073438</td>\n",
       "      <td>1.000000</td>\n",
       "    </tr>\n",
       "  </tbody>\n",
       "</table>\n",
       "</div>"
      ],
      "text/plain": [
       "           T        Po         P        Pa         U        DD        Ff  \\\n",
       "T   1.000000 -0.144068 -0.147397 -0.065869 -0.453882  0.047337  0.013610   \n",
       "Po -0.144068  1.000000  0.999810  0.060222 -0.126077 -0.164079 -0.238574   \n",
       "P  -0.147397  0.999810  1.000000  0.057043 -0.124522 -0.164046 -0.238201   \n",
       "Pa -0.065869  0.060222  0.057043  1.000000  0.061886  0.068705 -0.055147   \n",
       "U  -0.453882 -0.126077 -0.124522  0.061886  1.000000  0.002524 -0.078835   \n",
       "DD  0.047337 -0.164079 -0.164046  0.068705  0.002524  1.000000  0.429084   \n",
       "Ff  0.013610 -0.238574 -0.238201 -0.055147 -0.078835  0.429084  1.000000   \n",
       "VV  0.157905  0.114984  0.114489  0.070058 -0.257270  0.011835 -0.002370   \n",
       "Td  0.900470 -0.227180 -0.230138 -0.035144 -0.032583  0.057032 -0.011138   \n",
       "\n",
       "          VV        Td  \n",
       "T   0.157905  0.900470  \n",
       "Po  0.114984 -0.227180  \n",
       "P   0.114489 -0.230138  \n",
       "Pa  0.070058 -0.035144  \n",
       "U  -0.257270 -0.032583  \n",
       "DD  0.011835  0.057032  \n",
       "Ff -0.002370 -0.011138  \n",
       "VV  1.000000  0.073438  \n",
       "Td  0.073438  1.000000  "
      ]
     },
     "execution_count": 9,
     "metadata": {},
     "output_type": "execute_result"
    }
   ],
   "source": [
    "printmd(\"### Pandas корреляция\")  \n",
    "df.corr() "
   ]
  },
  {
   "cell_type": "markdown",
   "metadata": {},
   "source": [
    "# Расчёт доверительного интервала"
   ]
  },
  {
   "cell_type": "markdown",
   "metadata": {},
   "source": [
    "$ \\bar{x} - \\sigma < \\mu < \\bar{x} + \\sigma $"
   ]
  },
  {
   "cell_type": "code",
   "execution_count": 10,
   "metadata": {},
   "outputs": [
    {
     "data": {
      "text/markdown": [
       "**Ручной** расчёт для **T**"
      ],
      "text/plain": [
       "<IPython.core.display.Markdown object>"
      ]
     },
     "metadata": {},
     "output_type": "display_data"
    },
    {
     "data": {
      "text/markdown": [
       "$$6.686819341832544 < \\mu < 7.456947781455128$$"
      ],
      "text/plain": [
       "<IPython.core.display.Markdown object>"
      ]
     },
     "metadata": {},
     "output_type": "display_data"
    },
    {
     "data": {
      "text/markdown": [
       "**Scipy** расчёт для **T**"
      ],
      "text/plain": [
       "<IPython.core.display.Markdown object>"
      ]
     },
     "metadata": {},
     "output_type": "display_data"
    },
    {
     "data": {
      "text/markdown": [
       "$$6.6868264174779455 < \\mu < 7.456940705809727$$"
      ],
      "text/plain": [
       "<IPython.core.display.Markdown object>"
      ]
     },
     "metadata": {},
     "output_type": "display_data"
    },
    {
     "data": {
      "text/markdown": [
       "---"
      ],
      "text/plain": [
       "<IPython.core.display.Markdown object>"
      ]
     },
     "metadata": {},
     "output_type": "display_data"
    },
    {
     "data": {
      "text/markdown": [
       "**Ручной** расчёт для **Po**"
      ],
      "text/plain": [
       "<IPython.core.display.Markdown object>"
      ]
     },
     "metadata": {},
     "output_type": "display_data"
    },
    {
     "data": {
      "text/markdown": [
       "$$761.2050043254013 < \\mu < 761.7694995845317$$"
      ],
      "text/plain": [
       "<IPython.core.display.Markdown object>"
      ]
     },
     "metadata": {},
     "output_type": "display_data"
    },
    {
     "data": {
      "text/markdown": [
       "**Scipy** расчёт для **Po**"
      ],
      "text/plain": [
       "<IPython.core.display.Markdown object>"
      ]
     },
     "metadata": {},
     "output_type": "display_data"
    },
    {
     "data": {
      "text/markdown": [
       "$$761.2050095117677 < \\mu < 761.7694943981653$$"
      ],
      "text/plain": [
       "<IPython.core.display.Markdown object>"
      ]
     },
     "metadata": {},
     "output_type": "display_data"
    },
    {
     "data": {
      "text/markdown": [
       "---"
      ],
      "text/plain": [
       "<IPython.core.display.Markdown object>"
      ]
     },
     "metadata": {},
     "output_type": "display_data"
    },
    {
     "data": {
      "text/markdown": [
       "**Ручной** расчёт для **P**"
      ],
      "text/plain": [
       "<IPython.core.display.Markdown object>"
      ]
     },
     "metadata": {},
     "output_type": "display_data"
    },
    {
     "data": {
      "text/markdown": [
       "$$761.7737846892835 < \\mu < 762.3390487642132$$"
      ],
      "text/plain": [
       "<IPython.core.display.Markdown object>"
      ]
     },
     "metadata": {},
     "output_type": "display_data"
    },
    {
     "data": {
      "text/markdown": [
       "**Scipy** расчёт для **P**"
      ],
      "text/plain": [
       "<IPython.core.display.Markdown object>"
      ]
     },
     "metadata": {},
     "output_type": "display_data"
    },
    {
     "data": {
      "text/markdown": [
       "$$761.7737898827136 < \\mu < 762.3390435707831$$"
      ],
      "text/plain": [
       "<IPython.core.display.Markdown object>"
      ]
     },
     "metadata": {},
     "output_type": "display_data"
    },
    {
     "data": {
      "text/markdown": [
       "---"
      ],
      "text/plain": [
       "<IPython.core.display.Markdown object>"
      ]
     },
     "metadata": {},
     "output_type": "display_data"
    },
    {
     "data": {
      "text/markdown": [
       "**Ручной** расчёт для **Pa**"
      ],
      "text/plain": [
       "<IPython.core.display.Markdown object>"
      ]
     },
     "metadata": {},
     "output_type": "display_data"
    },
    {
     "data": {
      "text/markdown": [
       "$$-0.03096504343675521 < \\mu < 0.03716342445445148$$"
      ],
      "text/plain": [
       "<IPython.core.display.Markdown object>"
      ]
     },
     "metadata": {},
     "output_type": "display_data"
    },
    {
     "data": {
      "text/markdown": [
       "**Scipy** расчёт для **Pa**"
      ],
      "text/plain": [
       "<IPython.core.display.Markdown object>"
      ]
     },
     "metadata": {},
     "output_type": "display_data"
    },
    {
     "data": {
      "text/markdown": [
       "$$-0.03096441749846274 < \\mu < 0.037162798516159015$$"
      ],
      "text/plain": [
       "<IPython.core.display.Markdown object>"
      ]
     },
     "metadata": {},
     "output_type": "display_data"
    },
    {
     "data": {
      "text/markdown": [
       "---"
      ],
      "text/plain": [
       "<IPython.core.display.Markdown object>"
      ]
     },
     "metadata": {},
     "output_type": "display_data"
    },
    {
     "data": {
      "text/markdown": [
       "**Ручной** расчёт для **U**"
      ],
      "text/plain": [
       "<IPython.core.display.Markdown object>"
      ]
     },
     "metadata": {},
     "output_type": "display_data"
    },
    {
     "data": {
      "text/markdown": [
       "$$72.00449846482519 < \\mu < 73.28061606015956$$"
      ],
      "text/plain": [
       "<IPython.core.display.Markdown object>"
      ]
     },
     "metadata": {},
     "output_type": "display_data"
    },
    {
     "data": {
      "text/markdown": [
       "**Scipy** расчёт для **U**"
      ],
      "text/plain": [
       "<IPython.core.display.Markdown object>"
      ]
     },
     "metadata": {},
     "output_type": "display_data"
    },
    {
     "data": {
      "text/markdown": [
       "$$72.00451018930532 < \\mu < 73.28060433567943$$"
      ],
      "text/plain": [
       "<IPython.core.display.Markdown object>"
      ]
     },
     "metadata": {},
     "output_type": "display_data"
    },
    {
     "data": {
      "text/markdown": [
       "---"
      ],
      "text/plain": [
       "<IPython.core.display.Markdown object>"
      ]
     },
     "metadata": {},
     "output_type": "display_data"
    },
    {
     "data": {
      "text/markdown": [
       "**Ручной** расчёт для **DD**"
      ],
      "text/plain": [
       "<IPython.core.display.Markdown object>"
      ]
     },
     "metadata": {},
     "output_type": "display_data"
    },
    {
     "data": {
      "text/markdown": [
       "$$164.29184322828286 < \\mu < 172.08396787481735$$"
      ],
      "text/plain": [
       "<IPython.core.display.Markdown object>"
      ]
     },
     "metadata": {},
     "output_type": "display_data"
    },
    {
     "data": {
      "text/markdown": [
       "**Scipy** расчёт для **DD**"
      ],
      "text/plain": [
       "<IPython.core.display.Markdown object>"
      ]
     },
     "metadata": {},
     "output_type": "display_data"
    },
    {
     "data": {
      "text/markdown": [
       "$$164.29191481934234 < \\mu < 172.08389628375787$$"
      ],
      "text/plain": [
       "<IPython.core.display.Markdown object>"
      ]
     },
     "metadata": {},
     "output_type": "display_data"
    },
    {
     "data": {
      "text/markdown": [
       "---"
      ],
      "text/plain": [
       "<IPython.core.display.Markdown object>"
      ]
     },
     "metadata": {},
     "output_type": "display_data"
    },
    {
     "data": {
      "text/markdown": [
       "**Ручной** расчёт для **Ff**"
      ],
      "text/plain": [
       "<IPython.core.display.Markdown object>"
      ]
     },
     "metadata": {},
     "output_type": "display_data"
    },
    {
     "data": {
      "text/markdown": [
       "$$1.8099806558204226 < \\mu < 1.8920741387001254$$"
      ],
      "text/plain": [
       "<IPython.core.display.Markdown object>"
      ]
     },
     "metadata": {},
     "output_type": "display_data"
    },
    {
     "data": {
      "text/markdown": [
       "**Scipy** расчёт для **Ff**"
      ],
      "text/plain": [
       "<IPython.core.display.Markdown object>"
      ]
     },
     "metadata": {},
     "output_type": "display_data"
    },
    {
     "data": {
      "text/markdown": [
       "$$1.8099814100639287 < \\mu < 1.8920733844566193$$"
      ],
      "text/plain": [
       "<IPython.core.display.Markdown object>"
      ]
     },
     "metadata": {},
     "output_type": "display_data"
    },
    {
     "data": {
      "text/markdown": [
       "---"
      ],
      "text/plain": [
       "<IPython.core.display.Markdown object>"
      ]
     },
     "metadata": {},
     "output_type": "display_data"
    },
    {
     "data": {
      "text/markdown": [
       "**Ручной** расчёт для **VV**"
      ],
      "text/plain": [
       "<IPython.core.display.Markdown object>"
      ]
     },
     "metadata": {},
     "output_type": "display_data"
    },
    {
     "data": {
      "text/markdown": [
       "$$9.29902640410365 < \\mu < 9.458572996417395$$"
      ],
      "text/plain": [
       "<IPython.core.display.Markdown object>"
      ]
     },
     "metadata": {},
     "output_type": "display_data"
    },
    {
     "data": {
      "text/markdown": [
       "**Scipy** расчёт для **VV**"
      ],
      "text/plain": [
       "<IPython.core.display.Markdown object>"
      ]
     },
     "metadata": {},
     "output_type": "display_data"
    },
    {
     "data": {
      "text/markdown": [
       "$$9.299027869956685 < \\mu < 9.45857153056436$$"
      ],
      "text/plain": [
       "<IPython.core.display.Markdown object>"
      ]
     },
     "metadata": {},
     "output_type": "display_data"
    },
    {
     "data": {
      "text/markdown": [
       "---"
      ],
      "text/plain": [
       "<IPython.core.display.Markdown object>"
      ]
     },
     "metadata": {},
     "output_type": "display_data"
    },
    {
     "data": {
      "text/markdown": [
       "**Ручной** расчёт для **Td**"
      ],
      "text/plain": [
       "<IPython.core.display.Markdown object>"
      ]
     },
     "metadata": {},
     "output_type": "display_data"
    },
    {
     "data": {
      "text/markdown": [
       "$$1.473873958467831 < \\mu < 2.13401523237017$$"
      ],
      "text/plain": [
       "<IPython.core.display.Markdown object>"
      ]
     },
     "metadata": {},
     "output_type": "display_data"
    },
    {
     "data": {
      "text/markdown": [
       "**Scipy** расчёт для **Td**"
      ],
      "text/plain": [
       "<IPython.core.display.Markdown object>"
      ]
     },
     "metadata": {},
     "output_type": "display_data"
    },
    {
     "data": {
      "text/markdown": [
       "$$1.4738800235932417 < \\mu < 2.1340091672447596$$"
      ],
      "text/plain": [
       "<IPython.core.display.Markdown object>"
      ]
     },
     "metadata": {},
     "output_type": "display_data"
    },
    {
     "data": {
      "text/markdown": [
       "---"
      ],
      "text/plain": [
       "<IPython.core.display.Markdown object>"
      ]
     },
     "metadata": {},
     "output_type": "display_data"
    }
   ],
   "source": [
    "columns = list(df)\n",
    "columns.remove('date')\n",
    "for col in columns:\n",
    "    # ручной\n",
    "    mean = df[col].mean()\n",
    "    sq_dv = df[col].std()\n",
    "    z = 1.96 # Из таблицы Z оценок\n",
    "    left, right = mean - z * sq_dv / math.sqrt(len(df.index)), mean + z * sq_dv/ math.sqrt(len(df.index))\n",
    "    printmd('**Ручной** расчёт для **{}**'.format(col))\n",
    "    printmd('$${} < \\mu < {}$$'.format(left, right))\n",
    "    \n",
    "    # scipy\n",
    "    sk = stats.norm.interval(0.95, loc=mean, scale=sq_dv / math.sqrt(len(df.index)))\n",
    "    printmd('**Scipy** расчёт для **{}**'.format(col))\n",
    "    printmd('$${} < \\mu < {}$$'.format(sk[0], sk[1]))\n",
    "    printmd('---')"
   ]
  },
  {
   "cell_type": "code",
   "execution_count": 11,
   "metadata": {},
   "outputs": [],
   "source": [
    "#df.groupby([df.date.dt.year, df.date.dt.month]).T.mean().plot(title=\"Температура\", figsize=(8,4), \n",
    "#                                                              grid=True, x_compat=True, kind='line')"
   ]
  }
 ],
 "metadata": {
  "celltoolbar": "Редактировать метаданные",
  "kernelspec": {
   "display_name": "Python 3",
   "language": "python",
   "name": "python3"
  },
  "language_info": {
   "codemirror_mode": {
    "name": "ipython",
    "version": 3
   },
   "file_extension": ".py",
   "mimetype": "text/x-python",
   "name": "python",
   "nbconvert_exporter": "python",
   "pygments_lexer": "ipython3",
   "version": "3.7.3"
  }
 },
 "nbformat": 4,
 "nbformat_minor": 2
}
