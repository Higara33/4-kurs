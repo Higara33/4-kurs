{
 "cells": [
  {
   "cell_type": "code",
   "execution_count": 26,
   "metadata": {
    "scrolled": true
   },
   "outputs": [],
   "source": [
    "from __future__ import division, print_function\n",
    "import warnings\n",
    "warnings.filterwarnings('ignore')\n",
    "from matplotlib import pyplot as plt\n",
    "%matplotlib inline\n",
    "from scipy import stats\n",
    "import scipy.stats as stats\n",
    "import random\n",
    "#Построение таблицы с данными и тест Колмогорова\n",
    "import csv\n",
    "import pandas as pd, scipy"
   ]
  },
  {
   "cell_type": "markdown",
   "metadata": {},
   "source": [
    "## Считывание и преобразование данных"
   ]
  },
  {
   "cell_type": "code",
   "execution_count": 27,
   "metadata": {},
   "outputs": [
    {
     "data": {
      "text/html": [
       "<div>\n",
       "<style scoped>\n",
       "    .dataframe tbody tr th:only-of-type {\n",
       "        vertical-align: middle;\n",
       "    }\n",
       "\n",
       "    .dataframe tbody tr th {\n",
       "        vertical-align: top;\n",
       "    }\n",
       "\n",
       "    .dataframe thead th {\n",
       "        text-align: right;\n",
       "    }\n",
       "</style>\n",
       "<table border=\"1\" class=\"dataframe\">\n",
       "  <thead>\n",
       "    <tr style=\"text-align: right;\">\n",
       "      <th></th>\n",
       "      <th>No.</th>\n",
       "      <th>Time</th>\n",
       "      <th>Protocol</th>\n",
       "      <th>Length</th>\n",
       "      <th>Delta</th>\n",
       "      <th>UTC</th>\n",
       "    </tr>\n",
       "  </thead>\n",
       "  <tbody>\n",
       "    <tr>\n",
       "      <th>1</th>\n",
       "      <td>3.0</td>\n",
       "      <td>0.024310</td>\n",
       "      <td>UDP</td>\n",
       "      <td>102.0</td>\n",
       "      <td>0.018915</td>\n",
       "      <td>17:49:43.218267</td>\n",
       "    </tr>\n",
       "    <tr>\n",
       "      <th>2</th>\n",
       "      <td>4.0</td>\n",
       "      <td>0.026144</td>\n",
       "      <td>UDP</td>\n",
       "      <td>154.0</td>\n",
       "      <td>0.001834</td>\n",
       "      <td>17:49:43.220101</td>\n",
       "    </tr>\n",
       "    <tr>\n",
       "      <th>3</th>\n",
       "      <td>5.0</td>\n",
       "      <td>0.046636</td>\n",
       "      <td>UDP</td>\n",
       "      <td>156.0</td>\n",
       "      <td>0.020492</td>\n",
       "      <td>17:49:43.240593</td>\n",
       "    </tr>\n",
       "    <tr>\n",
       "      <th>4</th>\n",
       "      <td>6.0</td>\n",
       "      <td>0.068658</td>\n",
       "      <td>UDP</td>\n",
       "      <td>145.0</td>\n",
       "      <td>0.022022</td>\n",
       "      <td>17:49:43.262615</td>\n",
       "    </tr>\n",
       "    <tr>\n",
       "      <th>5</th>\n",
       "      <td>7.0</td>\n",
       "      <td>0.068658</td>\n",
       "      <td>UDP</td>\n",
       "      <td>349.0</td>\n",
       "      <td>0.000000</td>\n",
       "      <td>17:49:43.262615</td>\n",
       "    </tr>\n",
       "    <tr>\n",
       "      <th>...</th>\n",
       "      <td>...</td>\n",
       "      <td>...</td>\n",
       "      <td>...</td>\n",
       "      <td>...</td>\n",
       "      <td>...</td>\n",
       "      <td>...</td>\n",
       "    </tr>\n",
       "    <tr>\n",
       "      <th>16765</th>\n",
       "      <td>104303.0</td>\n",
       "      <td>300.232367</td>\n",
       "      <td>UDP</td>\n",
       "      <td>220.0</td>\n",
       "      <td>0.007462</td>\n",
       "      <td>17:54:43.426324</td>\n",
       "    </tr>\n",
       "    <tr>\n",
       "      <th>16766</th>\n",
       "      <td>104304.0</td>\n",
       "      <td>300.249738</td>\n",
       "      <td>UDP</td>\n",
       "      <td>94.0</td>\n",
       "      <td>0.017371</td>\n",
       "      <td>17:54:43.443695</td>\n",
       "    </tr>\n",
       "    <tr>\n",
       "      <th>16767</th>\n",
       "      <td>104307.0</td>\n",
       "      <td>300.255462</td>\n",
       "      <td>UDP</td>\n",
       "      <td>203.0</td>\n",
       "      <td>0.002105</td>\n",
       "      <td>17:54:43.449419</td>\n",
       "    </tr>\n",
       "    <tr>\n",
       "      <th>16768</th>\n",
       "      <td>104308.0</td>\n",
       "      <td>300.268826</td>\n",
       "      <td>UDP</td>\n",
       "      <td>1256.0</td>\n",
       "      <td>0.013364</td>\n",
       "      <td>17:54:43.462783</td>\n",
       "    </tr>\n",
       "    <tr>\n",
       "      <th>16769</th>\n",
       "      <td>104309.0</td>\n",
       "      <td>300.284451</td>\n",
       "      <td>UDP</td>\n",
       "      <td>211.0</td>\n",
       "      <td>0.015625</td>\n",
       "      <td>17:54:43.478408</td>\n",
       "    </tr>\n",
       "  </tbody>\n",
       "</table>\n",
       "<p>16769 rows × 6 columns</p>\n",
       "</div>"
      ],
      "text/plain": [
       "            No.        Time Protocol  Length     Delta              UTC\n",
       "1           3.0    0.024310      UDP   102.0  0.018915  17:49:43.218267\n",
       "2           4.0    0.026144      UDP   154.0  0.001834  17:49:43.220101\n",
       "3           5.0    0.046636      UDP   156.0  0.020492  17:49:43.240593\n",
       "4           6.0    0.068658      UDP   145.0  0.022022  17:49:43.262615\n",
       "5           7.0    0.068658      UDP   349.0  0.000000  17:49:43.262615\n",
       "...         ...         ...      ...     ...       ...              ...\n",
       "16765  104303.0  300.232367      UDP   220.0  0.007462  17:54:43.426324\n",
       "16766  104304.0  300.249738      UDP    94.0  0.017371  17:54:43.443695\n",
       "16767  104307.0  300.255462      UDP   203.0  0.002105  17:54:43.449419\n",
       "16768  104308.0  300.268826      UDP  1256.0  0.013364  17:54:43.462783\n",
       "16769  104309.0  300.284451      UDP   211.0  0.015625  17:54:43.478408\n",
       "\n",
       "[16769 rows x 6 columns]"
      ]
     },
     "metadata": {},
     "output_type": "display_data"
    }
   ],
   "source": [
    "df = pd.read_csv('traffic.csv', sep=',', error_bad_lines=False)\n",
    "new_df = df.shift().reset_index()\n",
    "new_df.drop('index', axis=1, inplace=True)\n",
    "new_df = new_df[new_df['No.'].notna()]\n",
    "display(new_df)\n",
    "\n",
    "z = new_df['Delta'].values\n",
    "\n",
    "# Виыбираю рандомно 100 элементов из списка\n",
    "x = random.choices(z, k=100)"
   ]
  },
  {
   "cell_type": "markdown",
   "metadata": {},
   "source": [
    "# График данных"
   ]
  },
  {
   "cell_type": "code",
   "execution_count": 21,
   "metadata": {},
   "outputs": [
    {
     "data": {
      "image/png": "[encoded data removed]",
      "text/plain": [
       "<Figure size 432x288 with 1 Axes>"
      ]
     },
     "metadata": {
      "needs_background": "light"
     },
     "output_type": "display_data"
    }
   ],
   "source": [
    "plt.plot(new_df['Delta'])\n",
    "plt.show()"
   ]
  },
  {
   "cell_type": "markdown",
   "metadata": {},
   "source": [
    "## Проверка гипотез"
   ]
  },
  {
   "cell_type": "markdown",
   "metadata": {},
   "source": [
    "Если значение **pvalue** значенимо ($pvlaue < 0.05$), то гипотеза о соответсвии распределения отвергается"
   ]
  },
  {
   "cell_type": "markdown",
   "metadata": {},
   "source": [
    "### Нормальное распределение"
   ]
  },
  {
   "cell_type": "code",
   "execution_count": 22,
   "metadata": {},
   "outputs": [
    {
     "data": {
      "text/plain": [
       "KstestResult(statistic=0.5000047873073648, pvalue=1.2118183928355768e-23)"
      ]
     },
     "execution_count": 22,
     "metadata": {},
     "output_type": "execute_result"
    }
   ],
   "source": [
    "stats.kstest(x, 'norm')"
   ]
  },
  {
   "cell_type": "markdown",
   "metadata": {},
   "source": [
    "### равномерное распределение"
   ]
  },
  {
   "cell_type": "code",
   "execution_count": 23,
   "metadata": {
    "scrolled": false
   },
   "outputs": [
    {
     "data": {
      "text/plain": [
       "KstestResult(statistic=0.946449, pvalue=1.5058770257544143e-127)"
      ]
     },
     "execution_count": 23,
     "metadata": {},
     "output_type": "execute_result"
    }
   ],
   "source": [
    "stats.kstest(x, 'uniform')"
   ]
  },
  {
   "cell_type": "markdown",
   "metadata": {},
   "source": [
    "### экспоненциальное"
   ]
  },
  {
   "cell_type": "code",
   "execution_count": 24,
   "metadata": {},
   "outputs": [
    {
     "data": {
      "text/plain": [
       "KstestResult(statistic=0.9467241604664086, pvalue=8.996241414476446e-128)"
      ]
     },
     "execution_count": 24,
     "metadata": {},
     "output_type": "execute_result"
    }
   ],
   "source": [
    "stats.kstest(x, 'expon')"
   ]
  },
  {
   "cell_type": "markdown",
   "metadata": {},
   "source": [
    "# Гипотеза была отвергнута, так как не подошли данные"
   ]
  }
 ],
 "metadata": {
  "kernelspec": {
   "display_name": "Python 3",
   "language": "python",
   "name": "python3"
  },
  "language_info": {
   "codemirror_mode": {
    "name": "ipython",
    "version": 3
   },
   "file_extension": ".py",
   "mimetype": "text/x-python",
   "name": "python",
   "nbconvert_exporter": "python",
   "pygments_lexer": "ipython3",
   "version": "3.8.0"
  }
 },
 "nbformat": 4,
 "nbformat_minor": 4
}
