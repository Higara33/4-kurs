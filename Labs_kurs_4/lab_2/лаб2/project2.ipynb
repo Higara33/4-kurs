{
 "cells": [
  {
   "cell_type": "markdown",
   "metadata": {},
   "source": [
    "# Лабораторная работа №2"
   ]
  },
  {
   "cell_type": "markdown",
   "metadata": {},
   "source": [
    "Для начала импортируем необходимые библиотеки:"
   ]
  },
  {
   "cell_type": "code",
   "execution_count": 1,
   "metadata": {},
   "outputs": [],
   "source": [
    "import scipy\n",
    "from scipy import stats\n",
    "import pandas as pd \n",
    "import math\n",
    "import numpy as np\n",
    "import datetime\n",
    "from matplotlib import pyplot as plt\n",
    "%matplotlib inline"
   ]
  },
  {
   "cell_type": "markdown",
   "metadata": {},
   "source": [
    "Для работы понядобятся Дата - '**date**', Температура - '**T**' и Давление - '**P**'. Для этого объеденим их в отдельный *DataFrame*"
   ]
  },
  {
   "cell_type": "code",
   "execution_count": 2,
   "metadata": {
    "scrolled": true
   },
   "outputs": [
    {
     "data": {
      "text/html": [
       "<div>\n",
       "<style scoped>\n",
       "    .dataframe tbody tr th:only-of-type {\n",
       "        vertical-align: middle;\n",
       "    }\n",
       "\n",
       "    .dataframe tbody tr th {\n",
       "        vertical-align: top;\n",
       "    }\n",
       "\n",
       "    .dataframe thead th {\n",
       "        text-align: right;\n",
       "    }\n",
       "</style>\n",
       "<table border=\"1\" class=\"dataframe\">\n",
       "  <thead>\n",
       "    <tr style=\"text-align: right;\">\n",
       "      <th></th>\n",
       "      <th>date</th>\n",
       "      <th>T</th>\n",
       "      <th>P</th>\n",
       "    </tr>\n",
       "  </thead>\n",
       "  <tbody>\n",
       "    <tr>\n",
       "      <th>2919</th>\n",
       "      <td>2018-01-01 00:00:00</td>\n",
       "      <td>0.8</td>\n",
       "      <td>756.2</td>\n",
       "    </tr>\n",
       "    <tr>\n",
       "      <th>2918</th>\n",
       "      <td>2018-01-01 03:00:00</td>\n",
       "      <td>0.4</td>\n",
       "      <td>755.1</td>\n",
       "    </tr>\n",
       "    <tr>\n",
       "      <th>2917</th>\n",
       "      <td>2018-01-01 06:00:00</td>\n",
       "      <td>0.0</td>\n",
       "      <td>753.4</td>\n",
       "    </tr>\n",
       "    <tr>\n",
       "      <th>2916</th>\n",
       "      <td>2018-01-01 09:00:00</td>\n",
       "      <td>-0.5</td>\n",
       "      <td>751.7</td>\n",
       "    </tr>\n",
       "    <tr>\n",
       "      <th>2915</th>\n",
       "      <td>2018-01-01 12:00:00</td>\n",
       "      <td>0.0</td>\n",
       "      <td>750.7</td>\n",
       "    </tr>\n",
       "  </tbody>\n",
       "</table>\n",
       "</div>"
      ],
      "text/plain": [
       "                    date    T      P\n",
       "2919 2018-01-01 00:00:00  0.8  756.2\n",
       "2918 2018-01-01 03:00:00  0.4  755.1\n",
       "2917 2018-01-01 06:00:00  0.0  753.4\n",
       "2916 2018-01-01 09:00:00 -0.5  751.7\n",
       "2915 2018-01-01 12:00:00  0.0  750.7"
      ]
     },
     "execution_count": 2,
     "metadata": {},
     "output_type": "execute_result"
    }
   ],
   "source": [
    "df=pd.read_csv('piter2.csv', delimiter=';', error_bad_lines=False, index_col=False)\n",
    "\n",
    "# Переименовываем первый стобец\n",
    "df.rename(columns={'Местное время в Санкт-Петербурге':'date'}, inplace=True)\n",
    "\n",
    "# Конверитруем строковые даты в формат datetime64[ns]\n",
    "df['date'] = pd.to_datetime(df['date'])\n",
    "\n",
    "# Сортируем по дате\n",
    "df = df.sort_values(by='date')\n",
    "\n",
    "# Возмём Дату, Температуру и Давление\n",
    "df = df[['date', 'T', 'P']]\n",
    "df.head()"
   ]
  },
  {
   "cell_type": "markdown",
   "metadata": {},
   "source": [
    "И хотя в данной выборке не наблядается пустых значений температуры и давления, но для абстрагирования от конкретных данных будем заполнять пустые данные средними по месяцу"
   ]
  },
  {
   "cell_type": "code",
   "execution_count": 3,
   "metadata": {
    "scrolled": true
   },
   "outputs": [
    {
     "name": "stdout",
     "output_type": "stream",
     "text": [
      "date    0\n",
      "T       0\n",
      "P       0\n",
      "dtype: int64\n"
     ]
    },
    {
     "data": {
      "text/html": [
       "<div>\n",
       "<style scoped>\n",
       "    .dataframe tbody tr th:only-of-type {\n",
       "        vertical-align: middle;\n",
       "    }\n",
       "\n",
       "    .dataframe tbody tr th {\n",
       "        vertical-align: top;\n",
       "    }\n",
       "\n",
       "    .dataframe thead th {\n",
       "        text-align: right;\n",
       "    }\n",
       "</style>\n",
       "<table border=\"1\" class=\"dataframe\">\n",
       "  <thead>\n",
       "    <tr style=\"text-align: right;\">\n",
       "      <th></th>\n",
       "      <th>date</th>\n",
       "      <th>T</th>\n",
       "      <th>P</th>\n",
       "    </tr>\n",
       "  </thead>\n",
       "  <tbody>\n",
       "    <tr>\n",
       "      <th>2919</th>\n",
       "      <td>2018-01-01 00:00:00</td>\n",
       "      <td>0.8</td>\n",
       "      <td>756.2</td>\n",
       "    </tr>\n",
       "    <tr>\n",
       "      <th>2918</th>\n",
       "      <td>2018-01-01 03:00:00</td>\n",
       "      <td>0.4</td>\n",
       "      <td>755.1</td>\n",
       "    </tr>\n",
       "    <tr>\n",
       "      <th>2917</th>\n",
       "      <td>2018-01-01 06:00:00</td>\n",
       "      <td>0.0</td>\n",
       "      <td>753.4</td>\n",
       "    </tr>\n",
       "    <tr>\n",
       "      <th>2916</th>\n",
       "      <td>2018-01-01 09:00:00</td>\n",
       "      <td>-0.5</td>\n",
       "      <td>751.7</td>\n",
       "    </tr>\n",
       "    <tr>\n",
       "      <th>2915</th>\n",
       "      <td>2018-01-01 12:00:00</td>\n",
       "      <td>0.0</td>\n",
       "      <td>750.7</td>\n",
       "    </tr>\n",
       "  </tbody>\n",
       "</table>\n",
       "</div>"
      ],
      "text/plain": [
       "                    date    T      P\n",
       "2919 2018-01-01 00:00:00  0.8  756.2\n",
       "2918 2018-01-01 03:00:00  0.4  755.1\n",
       "2917 2018-01-01 06:00:00  0.0  753.4\n",
       "2916 2018-01-01 09:00:00 -0.5  751.7\n",
       "2915 2018-01-01 12:00:00  0.0  750.7"
      ]
     },
     "execution_count": 3,
     "metadata": {},
     "output_type": "execute_result"
    }
   ],
   "source": [
    "columns = list(df)\n",
    "columns.remove('date')\n",
    "\n",
    "# Заполняем средними значениями\n",
    "for a in columns:\n",
    "    df[a].fillna(df[a].groupby([df.date.dt.year, df.date.dt.month]).transform('mean'), inplace=True)\n",
    "print(df.isna().sum())\n",
    "df.head()"
   ]
  },
  {
   "cell_type": "markdown",
   "metadata": {},
   "source": [
    "## Линейная регрессия"
   ]
  },
  {
   "cell_type": "markdown",
   "metadata": {},
   "source": [
    "Общий вид Регрессионной модели:"
   ]
  },
  {
   "cell_type": "markdown",
   "metadata": {},
   "source": [
    "$y = f(x,b) + \\epsilon, E(\\epsilon)=0$"
   ]
  },
  {
   "cell_type": "markdown",
   "metadata": {},
   "source": [
    "Общий вид линейной регрессии:"
   ]
  },
  {
   "cell_type": "markdown",
   "metadata": {},
   "source": [
    "$f(x,b) = b_0 + b_1x_1 + b_2x_2 + ... + b_kx_k$"
   ]
  },
  {
   "cell_type": "markdown",
   "metadata": {},
   "source": [
    "где $b_{j}$ — параметры (коэффициенты) регрессии, $x_{j}$ — регрессоры (факторы модели), $k$ — количество факторов модели"
   ]
  },
  {
   "cell_type": "markdown",
   "metadata": {},
   "source": [
    "У нас частный случай - $x$ это один фактор, тмпература. Поэтому формула изменяется до простейшей:"
   ]
  },
  {
   "cell_type": "markdown",
   "metadata": {},
   "source": [
    "$y_t = a + bx_t + \\epsilon_t$"
   ]
  },
  {
   "cell_type": "markdown",
   "metadata": {},
   "source": [
    "В данной лабораторной работе будет рачитываться зависимость *температуры* от *давления*"
   ]
  },
  {
   "cell_type": "markdown",
   "metadata": {},
   "source": [
    "### Ручной расчёт"
   ]
  },
  {
   "cell_type": "markdown",
   "metadata": {},
   "source": [
    "Для этого необходимо найти коэфициенты *a* и *b*. Находим их с помощью **метода наименьших квадратов** (**МНК**)"
   ]
  },
  {
   "cell_type": "markdown",
   "metadata": {},
   "source": [
    "$ b = \\frac { \\sum_{i=1}^n (x_i - \\bar{x})(y_i - \\bar{y}) } {\\sum_{i=1}^n (x_i - \\bar{x})^2}$"
   ]
  },
  {
   "cell_type": "markdown",
   "metadata": {},
   "source": [
    "$a = \\bar{y} - b\\bar{x} $"
   ]
  },
  {
   "cell_type": "code",
   "execution_count": 4,
   "metadata": {
    "scrolled": true
   },
   "outputs": [
    {
     "data": {
      "text/html": [
       "<div>\n",
       "<style scoped>\n",
       "    .dataframe tbody tr th:only-of-type {\n",
       "        vertical-align: middle;\n",
       "    }\n",
       "\n",
       "    .dataframe tbody tr th {\n",
       "        vertical-align: top;\n",
       "    }\n",
       "\n",
       "    .dataframe thead th {\n",
       "        text-align: right;\n",
       "    }\n",
       "</style>\n",
       "<table border=\"1\" class=\"dataframe\">\n",
       "  <thead>\n",
       "    <tr style=\"text-align: right;\">\n",
       "      <th></th>\n",
       "      <th></th>\n",
       "      <th>T</th>\n",
       "      <th>P</th>\n",
       "    </tr>\n",
       "    <tr>\n",
       "      <th>date</th>\n",
       "      <th>date</th>\n",
       "      <th></th>\n",
       "      <th></th>\n",
       "    </tr>\n",
       "  </thead>\n",
       "  <tbody>\n",
       "    <tr>\n",
       "      <th rowspan=\"5\" valign=\"top\">1</th>\n",
       "      <th>1</th>\n",
       "      <td>0.5125</td>\n",
       "      <td>751.6375</td>\n",
       "    </tr>\n",
       "    <tr>\n",
       "      <th>2</th>\n",
       "      <td>-8.5750</td>\n",
       "      <td>756.6000</td>\n",
       "    </tr>\n",
       "    <tr>\n",
       "      <th>3</th>\n",
       "      <td>-15.1375</td>\n",
       "      <td>778.0625</td>\n",
       "    </tr>\n",
       "    <tr>\n",
       "      <th>4</th>\n",
       "      <td>0.1375</td>\n",
       "      <td>759.5250</td>\n",
       "    </tr>\n",
       "    <tr>\n",
       "      <th>5</th>\n",
       "      <td>7.2875</td>\n",
       "      <td>759.2500</td>\n",
       "    </tr>\n",
       "    <tr>\n",
       "      <th>...</th>\n",
       "      <th>...</th>\n",
       "      <td>...</td>\n",
       "      <td>...</td>\n",
       "    </tr>\n",
       "    <tr>\n",
       "      <th rowspan=\"5\" valign=\"top\">12</th>\n",
       "      <th>27</th>\n",
       "      <td>-3.1875</td>\n",
       "      <td>757.1125</td>\n",
       "    </tr>\n",
       "    <tr>\n",
       "      <th>28</th>\n",
       "      <td>-1.8125</td>\n",
       "      <td>757.9750</td>\n",
       "    </tr>\n",
       "    <tr>\n",
       "      <th>29</th>\n",
       "      <td>-1.0500</td>\n",
       "      <td>761.0250</td>\n",
       "    </tr>\n",
       "    <tr>\n",
       "      <th>30</th>\n",
       "      <td>0.2125</td>\n",
       "      <td>759.6750</td>\n",
       "    </tr>\n",
       "    <tr>\n",
       "      <th>31</th>\n",
       "      <td>-1.6250</td>\n",
       "      <td>766.8750</td>\n",
       "    </tr>\n",
       "  </tbody>\n",
       "</table>\n",
       "<p>365 rows × 2 columns</p>\n",
       "</div>"
      ],
      "text/plain": [
       "                 T         P\n",
       "date date                   \n",
       "1    1      0.5125  751.6375\n",
       "     2     -8.5750  756.6000\n",
       "     3    -15.1375  778.0625\n",
       "     4      0.1375  759.5250\n",
       "     5      7.2875  759.2500\n",
       "...            ...       ...\n",
       "12   27    -3.1875  757.1125\n",
       "     28    -1.8125  757.9750\n",
       "     29    -1.0500  761.0250\n",
       "     30     0.2125  759.6750\n",
       "     31    -1.6250  766.8750\n",
       "\n",
       "[365 rows x 2 columns]"
      ]
     },
     "execution_count": 4,
     "metadata": {},
     "output_type": "execute_result"
    }
   ],
   "source": [
    "test = df.groupby([df.date.dt.month, df.date.dt.day])\n",
    "a, b = test.T.mean(), test.P.mean()\n",
    "test_df = a.to_frame().join(b.to_frame())\n",
    "test_df"
   ]
  },
  {
   "cell_type": "code",
   "execution_count": 5,
   "metadata": {},
   "outputs": [],
   "source": [
    "test_df = df[df.date.dt.month == 3]"
   ]
  },
  {
   "cell_type": "code",
   "execution_count": 6,
   "metadata": {
    "scrolled": false
   },
   "outputs": [
    {
     "name": "stdout",
     "output_type": "stream",
     "text": [
      "Среднее значение температуры 'T': 757.4411290322581, \n",
      "Среднее значение двления 'P': 0.9342741935483873\n",
      "\n",
      "b = 0.006785530251029144; a = 757.4347894864551;\n"
     ]
    }
   ],
   "source": [
    "test_df = test_df.sort_values(by='T')\n",
    "X = np.array(test_df['T'])\n",
    "Y = np.array(test_df['P'])\n",
    "m = len(X)\n",
    "mean_x = X.mean()\n",
    "mean_y = Y.mean()\n",
    "print(\"Среднее значение температуры 'T': {}, \\nСреднее значение двления 'P': {}\\n\".format(mean_y, mean_x))\n",
    "numer = sum((X - mean_x) * (Y - mean_y))\n",
    "denom = sum((X - mean_x) ** 2)\n",
    "b = numer / denom\n",
    "a = mean_y - (b * mean_x)\n",
    "print (\"b = {}; a = {};\".format(b, a))"
   ]
  },
  {
   "cell_type": "code",
   "execution_count": 37,
   "metadata": {
    "scrolled": true
   },
   "outputs": [
    {
     "data": {
      "image/png": "[encoded data removed]",
      "text/plain": [
       "<Figure size 432x288 with 1 Axes>"
      ]
     },
     "metadata": {
      "needs_background": "light"
     },
     "output_type": "display_data"
    }
   ],
   "source": [
    "max_x = np.max(X) + 1\n",
    "min_x = np.min(X) - 1\n",
    "\n",
    "x = np.linspace(min_x, max_x, 1000)\n",
    "y = a + b * x\n",
    "\n",
    "plt.plot(x, y, color='#58b970', label='Regression Line')\n",
    "# Ploting Scatter Points\n",
    "plt.scatter(X, Y, color='#ef5423', label='Original Plot')\n",
    "\n",
    "plt.xlabel('Head Size in cm3')\n",
    "plt.ylabel('Brain Weight in grams')\n",
    "plt.legend()\n",
    "plt.show()"
   ]
  },
  {
   "cell_type": "code",
   "execution_count": 8,
   "metadata": {},
   "outputs": [
    {
     "name": "stdout",
     "output_type": "stream",
     "text": [
      "RMSE ручная: 6.298325613939896\n"
     ]
    }
   ],
   "source": [
    "rmse = 0\n",
    "for i in range(m):\n",
    "    y_pred = a + b * X[i]\n",
    "    rmse += (Y[i] - y_pred) ** 2\n",
    "rmse = np.sqrt(rmse/m)\n",
    "print('RMSE ручная:', rmse)"
   ]
  },
  {
   "cell_type": "code",
   "execution_count": 9,
   "metadata": {},
   "outputs": [
    {
     "name": "stdout",
     "output_type": "stream",
     "text": [
      "R2 ручная: 9.268509388360435e-05\n"
     ]
    }
   ],
   "source": [
    "ss_t = 0\n",
    "ss_r = 0\n",
    "for i in range(m):\n",
    "    y_pred = a + b * X[i]\n",
    "    ss_t += (Y[i] - mean_y) ** 2\n",
    "    ss_r += (Y[i] - y_pred) ** 2\n",
    "r2 = 1 - (ss_r/ss_t)\n",
    "print(\"R2 ручная:\", r2)"
   ]
  },
  {
   "cell_type": "code",
   "execution_count": 10,
   "metadata": {
    "scrolled": true
   },
   "outputs": [
    {
     "name": "stdout",
     "output_type": "stream",
     "text": [
      "Rmse автоматическое: 6.298325613939897\n",
      "R2 автоматическое: 9.268509388316026e-05\n"
     ]
    }
   ],
   "source": [
    "from sklearn.linear_model import LinearRegression\n",
    "from sklearn.metrics import mean_squared_error\n",
    "\n",
    "# X and Y Values\n",
    "X = X.reshape((-1, 1))\n",
    "# Y = np.array(write)\n",
    "\n",
    "# Model Intialization\n",
    "reg = LinearRegression()\n",
    "# Data Fitting\n",
    "reg = reg.fit(X, Y)\n",
    "# Y Prediction\n",
    "Y_pred = reg.predict(X)\n",
    "\n",
    "# Model Evaluation\n",
    "rmse = np.sqrt(mean_squared_error(Y, Y_pred))\n",
    "r2 = reg.score(X, Y)\n",
    "\n",
    "print(\"Rmse автоматическое:\", rmse)\n",
    "print(\"R2 автоматическое:\", r2)"
   ]
  },
  {
   "cell_type": "code",
   "execution_count": 11,
   "metadata": {
    "scrolled": false
   },
   "outputs": [
    {
     "data": {
      "image/png": "[encoded data removed]",
      "text/plain": [
       "<Figure size 432x288 with 1 Axes>"
      ]
     },
     "metadata": {},
     "output_type": "display_data"
    }
   ],
   "source": [
    "plt.scatter(X, Y, color='#ef5423', label='Scatter Plot')\n",
    "plt.plot(X, Y_pred, color='#58b970', label='Regression Line', linewidth=3)\n",
    "\n",
    "plt.xticks(())\n",
    "plt.yticks(())\n",
    "plt.legend()\n",
    "plt.show()"
   ]
  },
  {
   "cell_type": "markdown",
   "metadata": {},
   "source": [
    "## Авторегрессия"
   ]
  },
  {
   "cell_type": "markdown",
   "metadata": {},
   "source": [
    "Буду испольовать ARIMA"
   ]
  },
  {
   "cell_type": "code",
   "execution_count": 141,
   "metadata": {},
   "outputs": [],
   "source": [
    "import re\n",
    "import calendar\n",
    "from statsmodels.graphics.tsaplots import plot_pacf, plot_acf\n",
    "from statsmodels.tsa.arima_process import ArmaProcess\n",
    "from statsmodels.stats.diagnostic import acorr_ljungbox\n",
    "from statsmodels.tsa.statespace.sarimax import SARIMAX\n",
    "from statsmodels.tsa.stattools import adfuller, pacf, acf\n",
    "import warnings \n",
    "warnings.filterwarnings('ignore')\n",
    "%matplotlib inline"
   ]
  },
  {
   "cell_type": "code",
   "execution_count": 163,
   "metadata": {
    "scrolled": true
   },
   "outputs": [],
   "source": [
    "new_df2 =  df[df.date.dt.month == 3]\n",
    "new_df2 = new_df2"
   ]
  },
  {
   "cell_type": "code",
   "execution_count": 164,
   "metadata": {
    "scrolled": true
   },
   "outputs": [
    {
     "data": {
      "image/png": "[encoded data removed]",
      "text/plain": [
       "<Figure size 1080x540 with 1 Axes>"
      ]
     },
     "metadata": {
      "needs_background": "light"
     },
     "output_type": "display_data"
    }
   ],
   "source": [
    "column = 'P'\n",
    "plt.figure(figsize=[15,7.5])\n",
    "plt.plot(new_df2['date'],new_df2[column])\n",
    "plt.xticks(rotation=90)\n",
    "plt.grid(True)\n",
    "plt.show()"
   ]
  },
  {
   "cell_type": "code",
   "execution_count": 165,
   "metadata": {
    "scrolled": true
   },
   "outputs": [
    {
     "data": {
      "image/png": "[encoded data removed]",
      "text/plain": [
       "<Figure size 432x288 with 1 Axes>"
      ]
     },
     "execution_count": 165,
     "metadata": {},
     "output_type": "execute_result"
    },
    {
     "data": {
      "image/png": "[encoded data removed]",
      "text/plain": [
       "<Figure size 432x288 with 1 Axes>"
      ]
     },
     "metadata": {
      "needs_background": "light"
     },
     "output_type": "display_data"
    },
    {
     "data": {
      "image/png": "[encoded data removed]",
      "text/plain": [
       "<Figure size 432x288 with 1 Axes>"
      ]
     },
     "metadata": {
      "needs_background": "light"
     },
     "output_type": "display_data"
    }
   ],
   "source": [
    "plot_pacf(new_df2['T'])\n",
    "plot_acf(new_df2['T'])"
   ]
  },
  {
   "cell_type": "code",
   "execution_count": 166,
   "metadata": {
    "scrolled": true
   },
   "outputs": [
    {
     "name": "stdout",
     "output_type": "stream",
     "text": [
      "ADF = -3.338295149777936\n",
      "pvalue = 0.013251085037314415\n"
     ]
    }
   ],
   "source": [
    "res=adfuller(new_df2[column])\n",
    "print('ADF =',res[0])\n",
    "print('pvalue =',res[1])\n",
    "##Так как pvalue < 0.05 то это означает что ряд стационарен "
   ]
  },
  {
   "cell_type": "markdown",
   "metadata": {},
   "source": [
    "$pvalue < 0.05$ Что хорошо - ряд Стационарен и с ним можно продолжать работать"
   ]
  },
  {
   "cell_type": "markdown",
   "metadata": {},
   "source": [
    "Однако для улучшения данны прологарифмируем их и сделает один вычет"
   ]
  },
  {
   "cell_type": "code",
   "execution_count": 167,
   "metadata": {},
   "outputs": [],
   "source": [
    "new_df2[column]=np.log(new_df2[column])"
   ]
  },
  {
   "cell_type": "code",
   "execution_count": 168,
   "metadata": {
    "scrolled": false
   },
   "outputs": [],
   "source": [
    "#plt.figure(figsize=[15,7.5])\n",
    "#plt.plot(new_df2['date'],new_df2['P'])\n",
    "#plt.xticks(rotation=90)\n",
    "#plt.grid(True)\n"
   ]
  },
  {
   "cell_type": "code",
   "execution_count": 169,
   "metadata": {},
   "outputs": [],
   "source": [
    "new_df2[column]=new_df2[column].diff()\n",
    "new_df2=new_df2.drop(new_df2.index[0])"
   ]
  },
  {
   "cell_type": "code",
   "execution_count": 170,
   "metadata": {},
   "outputs": [
    {
     "data": {
      "image/png": "[encoded data removed]",
      "text/plain": [
       "<Figure size 1080x540 with 1 Axes>"
      ]
     },
     "metadata": {
      "needs_background": "light"
     },
     "output_type": "display_data"
    }
   ],
   "source": [
    "plt.figure(figsize=[15,7.5])\n",
    "plt.plot(new_df2['date'],new_df2[column])\n",
    "plt.xticks(rotation=90)\n",
    "plt.grid(True)\n",
    "plt.show()\n"
   ]
  },
  {
   "cell_type": "code",
   "execution_count": 171,
   "metadata": {
    "scrolled": true
   },
   "outputs": [
    {
     "name": "stdout",
     "output_type": "stream",
     "text": [
      "ADF= -8.948265784405324\n",
      "pvalue= 8.86622107973197e-15\n"
     ]
    }
   ],
   "source": [
    "res=adfuller(new_df2[column])\n",
    "print('ADF=',res[0])\n",
    "print('pvalue=',res[1])"
   ]
  },
  {
   "cell_type": "markdown",
   "metadata": {},
   "source": [
    "$pvalue < 0.05$ И стал ещё меньше. Сами данные приняли более приемлимый видл для исследования"
   ]
  },
  {
   "cell_type": "code",
   "execution_count": 172,
   "metadata": {},
   "outputs": [],
   "source": [
    "#plot_pacf(new_df2['P'])\n",
    "#plot_acf(new_df2['P'])"
   ]
  },
  {
   "cell_type": "code",
   "execution_count": 173,
   "metadata": {},
   "outputs": [],
   "source": [
    "from tqdm import tqdm_notebook\n",
    "def optimizeARIMA(order_list,exog):\n",
    "    results=[]\n",
    "    for order in tqdm_notebook(order_list):\n",
    "        try:\n",
    "            model=SARIMAX(exog,order=order).fit(disp=-1)\n",
    "        except:\n",
    "            continue\n",
    "        aic=model.aic\n",
    "        results.append((order,model.aic))\n",
    "    result_df=pd.DataFrame(results)\n",
    "    result_df.columns=['p,d,q','aic']\n",
    "    result_df=result_df.sort_values(by='aic',ascending=True).reset_index(drop=True)\n",
    "    return result_df"
   ]
  },
  {
   "cell_type": "markdown",
   "metadata": {},
   "source": [
    "Используем диапазон от 0 до 8, при d = 1"
   ]
  },
  {
   "cell_type": "code",
   "execution_count": 174,
   "metadata": {
    "scrolled": true
   },
   "outputs": [
    {
     "data": {
      "application/vnd.jupyter.widget-view+json": {
       "model_id": "a673670c6e8540bf9c6943cbbb88fda0",
       "version_major": 2,
       "version_minor": 0
      },
      "text/plain": [
       "  0%|          | 0/64 [00:00<?, ?it/s]"
      ]
     },
     "metadata": {},
     "output_type": "display_data"
    }
   ],
   "source": [
    "from itertools import product\n",
    "ps=range(0,8,1)\n",
    "qs=range(0,8,1)\n",
    "d=1\n",
    "parametrs=product(ps,qs)\n",
    "plist=list(parametrs)\n",
    "plist\n",
    "olist=[]\n",
    "# перебор (p,d,q)\n",
    "for p in plist:\n",
    "    p=list(p)\n",
    "    p.insert(1,1)\n",
    "    p=tuple(p)\n",
    "    olist.append(p)\n",
    "olist\n",
    "result_df=optimizeARIMA(olist, exog = new_df2[column])\n",
    "\n"
   ]
  },
  {
   "cell_type": "markdown",
   "metadata": {},
   "source": [
    "**aic** - информационный критерий модели"
   ]
  },
  {
   "cell_type": "code",
   "execution_count": 175,
   "metadata": {
    "scrolled": true
   },
   "outputs": [
    {
     "data": {
      "text/html": [
       "<div>\n",
       "<style scoped>\n",
       "    .dataframe tbody tr th:only-of-type {\n",
       "        vertical-align: middle;\n",
       "    }\n",
       "\n",
       "    .dataframe tbody tr th {\n",
       "        vertical-align: top;\n",
       "    }\n",
       "\n",
       "    .dataframe thead th {\n",
       "        text-align: right;\n",
       "    }\n",
       "</style>\n",
       "<table border=\"1\" class=\"dataframe\">\n",
       "  <thead>\n",
       "    <tr style=\"text-align: right;\">\n",
       "      <th></th>\n",
       "      <th>p,d,q</th>\n",
       "      <th>aic</th>\n",
       "    </tr>\n",
       "  </thead>\n",
       "  <tbody>\n",
       "    <tr>\n",
       "      <th>0</th>\n",
       "      <td>(7, 1, 5)</td>\n",
       "      <td>-2110.963142</td>\n",
       "    </tr>\n",
       "    <tr>\n",
       "      <th>1</th>\n",
       "      <td>(7, 1, 7)</td>\n",
       "      <td>-2104.083145</td>\n",
       "    </tr>\n",
       "    <tr>\n",
       "      <th>2</th>\n",
       "      <td>(1, 1, 2)</td>\n",
       "      <td>-2098.662105</td>\n",
       "    </tr>\n",
       "    <tr>\n",
       "      <th>3</th>\n",
       "      <td>(4, 1, 3)</td>\n",
       "      <td>-2098.242769</td>\n",
       "    </tr>\n",
       "    <tr>\n",
       "      <th>4</th>\n",
       "      <td>(3, 1, 5)</td>\n",
       "      <td>-2095.866599</td>\n",
       "    </tr>\n",
       "    <tr>\n",
       "      <th>...</th>\n",
       "      <td>...</td>\n",
       "      <td>...</td>\n",
       "    </tr>\n",
       "    <tr>\n",
       "      <th>59</th>\n",
       "      <td>(5, 1, 1)</td>\n",
       "      <td>-2053.515087</td>\n",
       "    </tr>\n",
       "    <tr>\n",
       "      <th>60</th>\n",
       "      <td>(2, 1, 0)</td>\n",
       "      <td>-2047.834401</td>\n",
       "    </tr>\n",
       "    <tr>\n",
       "      <th>61</th>\n",
       "      <td>(6, 1, 1)</td>\n",
       "      <td>-2040.138441</td>\n",
       "    </tr>\n",
       "    <tr>\n",
       "      <th>62</th>\n",
       "      <td>(1, 1, 0)</td>\n",
       "      <td>-2024.828183</td>\n",
       "    </tr>\n",
       "    <tr>\n",
       "      <th>63</th>\n",
       "      <td>(0, 1, 0)</td>\n",
       "      <td>-1958.173357</td>\n",
       "    </tr>\n",
       "  </tbody>\n",
       "</table>\n",
       "<p>64 rows × 2 columns</p>\n",
       "</div>"
      ],
      "text/plain": [
       "        p,d,q          aic\n",
       "0   (7, 1, 5) -2110.963142\n",
       "1   (7, 1, 7) -2104.083145\n",
       "2   (1, 1, 2) -2098.662105\n",
       "3   (4, 1, 3) -2098.242769\n",
       "4   (3, 1, 5) -2095.866599\n",
       "..        ...          ...\n",
       "59  (5, 1, 1) -2053.515087\n",
       "60  (2, 1, 0) -2047.834401\n",
       "61  (6, 1, 1) -2040.138441\n",
       "62  (1, 1, 0) -2024.828183\n",
       "63  (0, 1, 0) -1958.173357\n",
       "\n",
       "[64 rows x 2 columns]"
      ]
     },
     "execution_count": 175,
     "metadata": {},
     "output_type": "execute_result"
    }
   ],
   "source": [
    "result_df"
   ]
  },
  {
   "cell_type": "code",
   "execution_count": 114,
   "metadata": {},
   "outputs": [],
   "source": [
    "new_df2 =  df[df.date.dt.month == 3]\n",
    "new_df2 = new_df2"
   ]
  },
  {
   "cell_type": "code",
   "execution_count": 176,
   "metadata": {
    "scrolled": true
   },
   "outputs": [
    {
     "name": "stdout",
     "output_type": "stream",
     "text": [
      "                               SARIMAX Results                                \n",
      "==============================================================================\n",
      "Dep. Variable:                      P   No. Observations:                  147\n",
      "Model:               SARIMAX(7, 1, 5)   Log Likelihood                 594.888\n",
      "Date:                Sun, 27 Dec 2020   AIC                          -1163.776\n",
      "Time:                        19:09:15   BIC                          -1124.989\n",
      "Sample:                             0   HQIC                         -1148.016\n",
      "                                - 147                                         \n",
      "Covariance Type:                  opg                                         \n",
      "==============================================================================\n",
      "                 coef    std err          z      P>|z|      [0.025      0.975]\n",
      "------------------------------------------------------------------------------\n",
      "ar.L1         -0.7213      0.722     -0.999      0.318      -2.137       0.694\n",
      "ar.L2         -0.4509      1.007     -0.448      0.654      -2.424       1.522\n",
      "ar.L3         -0.2345      0.946     -0.248      0.804      -2.089       1.620\n",
      "ar.L4         -0.0269      0.766     -0.035      0.972      -1.528       1.474\n",
      "ar.L5          0.1388      0.409      0.339      0.734      -0.664       0.941\n",
      "ar.L6          0.2436      0.333      0.731      0.465      -0.409       0.897\n",
      "ar.L7          0.3579      0.196      1.822      0.068      -0.027       0.743\n",
      "ma.L1         -0.1814      0.810     -0.224      0.823      -1.770       1.407\n",
      "ma.L2         -0.2367      0.831     -0.285      0.776      -1.866       1.393\n",
      "ma.L3         -0.0584      0.451     -0.130      0.897      -0.941       0.825\n",
      "ma.L4         -0.1736      0.551     -0.315      0.753      -1.254       0.907\n",
      "ma.L5         -0.1804      0.414     -0.435      0.663      -0.993       0.632\n",
      "sigma2      1.801e-05   1.17e-06     15.386      0.000    1.57e-05    2.03e-05\n",
      "===================================================================================\n",
      "Ljung-Box (L1) (Q):                   2.79   Jarque-Bera (JB):              1113.24\n",
      "Prob(Q):                              0.09   Prob(JB):                         0.00\n",
      "Heteroskedasticity (H):               0.10   Skew:                            -0.30\n",
      "Prob(H) (two-sided):                  0.00   Kurtosis:                        16.51\n",
      "===================================================================================\n",
      "\n",
      "Warnings:\n",
      "[1] Covariance matrix calculated using the outer product of gradients (complex-step).\n"
     ]
    }
   ],
   "source": [
    "train = new_df2[column][:len(new_df2[column]) - 100]\n",
    "test = new_df2[column][len(new_df2[column]) - 100:]\n",
    "size = len(new_df2[column]) - 100\n",
    "best_model=SARIMAX(train, order=(7,1,5)).fit()\n",
    "print(best_model.summary())"
   ]
  },
  {
   "cell_type": "code",
   "execution_count": 177,
   "metadata": {
    "scrolled": false
   },
   "outputs": [
    {
     "name": "stdout",
     "output_type": "stream",
     "text": [
      "[9.44537707e-02 7.55200746e-02 1.46693580e-01 2.26005158e-01\n",
      " 3.15479994e-01 9.36563035e-02 2.46833326e-02 4.42403994e-05\n",
      " 7.11659671e-05 1.28031200e-04 2.53660830e-04 4.72732018e-04\n",
      " 8.50894021e-04 1.24480855e-03 1.38321602e-03 1.47975816e-03\n",
      " 2.24517052e-03 3.53375230e-03 5.10081810e-03 7.39281483e-03\n",
      " 1.06737334e-02 1.52433594e-02 2.06812982e-02 1.53188428e-02\n",
      " 1.86138745e-02 2.22738888e-02 2.99338286e-02 3.94713786e-02\n",
      " 5.08617657e-02 6.27821926e-02 7.02709610e-02 7.40662587e-02\n",
      " 7.73282126e-02 8.45717510e-02 9.95637949e-02 1.16661784e-01\n",
      " 1.39965533e-01 1.63064358e-01 1.75531802e-01 5.43591301e-03]\n"
     ]
    }
   ],
   "source": [
    "ljung_box, p = acorr_ljungbox(best_model.resid)\n",
    "print(p)"
   ]
  },
  {
   "cell_type": "markdown",
   "metadata": {},
   "source": [
    "## Предсказание в ARIMA"
   ]
  },
  {
   "cell_type": "code",
   "execution_count": 178,
   "metadata": {
    "scrolled": true
   },
   "outputs": [
    {
     "name": "stdout",
     "output_type": "stream",
     "text": [
      "             P\n",
      "2299 -0.000665\n",
      "2298 -0.000399\n",
      "2297 -0.001066\n",
      "2296 -0.000667\n",
      "2295 -0.000400\n",
      "...        ...\n",
      "2204  0.000132\n",
      "2203  0.000000\n",
      "2202 -0.000526\n",
      "2201 -0.000790\n",
      "2200  0.000790\n",
      "\n",
      "[100 rows x 1 columns]\n",
      "     predicted_mean\n",
      "147       -0.001040\n",
      "148       -0.001341\n",
      "149       -0.001050\n",
      "150       -0.001099\n",
      "151       -0.001011\n",
      "..              ...\n",
      "242       -0.000818\n",
      "243       -0.000818\n",
      "244       -0.000818\n",
      "245       -0.000818\n",
      "246       -0.000818\n",
      "\n",
      "[100 rows x 1 columns]\n"
     ]
    }
   ],
   "source": [
    "predictions = best_model.predict(start = size, end=size + 99)\n",
    "forecast_1= best_model.forecast(steps=1)\n",
    "act= pd.DataFrame(test)\n",
    "print(act)\n",
    "predictions=pd.DataFrame(predictions)\n",
    "print(predictions)"
   ]
  },
  {
   "cell_type": "code",
   "execution_count": 179,
   "metadata": {
    "scrolled": true
   },
   "outputs": [
    {
     "data": {
      "text/html": [
       "<div>\n",
       "<style scoped>\n",
       "    .dataframe tbody tr th:only-of-type {\n",
       "        vertical-align: middle;\n",
       "    }\n",
       "\n",
       "    .dataframe tbody tr th {\n",
       "        vertical-align: top;\n",
       "    }\n",
       "\n",
       "    .dataframe thead th {\n",
       "        text-align: right;\n",
       "    }\n",
       "</style>\n",
       "<table border=\"1\" class=\"dataframe\">\n",
       "  <thead>\n",
       "    <tr style=\"text-align: right;\">\n",
       "      <th></th>\n",
       "      <th>Pred</th>\n",
       "      <th>Actual</th>\n",
       "    </tr>\n",
       "  </thead>\n",
       "  <tbody>\n",
       "    <tr>\n",
       "      <th>2299</th>\n",
       "      <td>-0.001040</td>\n",
       "      <td>-0.000665</td>\n",
       "    </tr>\n",
       "    <tr>\n",
       "      <th>2298</th>\n",
       "      <td>-0.001341</td>\n",
       "      <td>-0.000399</td>\n",
       "    </tr>\n",
       "    <tr>\n",
       "      <th>2297</th>\n",
       "      <td>-0.001050</td>\n",
       "      <td>-0.001066</td>\n",
       "    </tr>\n",
       "    <tr>\n",
       "      <th>2296</th>\n",
       "      <td>-0.001099</td>\n",
       "      <td>-0.000667</td>\n",
       "    </tr>\n",
       "    <tr>\n",
       "      <th>2295</th>\n",
       "      <td>-0.001011</td>\n",
       "      <td>-0.000400</td>\n",
       "    </tr>\n",
       "  </tbody>\n",
       "</table>\n",
       "</div>"
      ],
      "text/plain": [
       "          Pred    Actual\n",
       "2299 -0.001040 -0.000665\n",
       "2298 -0.001341 -0.000399\n",
       "2297 -0.001050 -0.001066\n",
       "2296 -0.001099 -0.000667\n",
       "2295 -0.001011 -0.000400"
      ]
     },
     "execution_count": 179,
     "metadata": {},
     "output_type": "execute_result"
    },
    {
     "data": {
      "image/png": "[encoded data removed]",
      "text/plain": [
       "<Figure size 1440x576 with 1 Axes>"
      ]
     },
     "metadata": {
      "needs_background": "light"
     },
     "output_type": "display_data"
    }
   ],
   "source": [
    "predictions.index=test.index\n",
    "predictions['Actual'] = act[column]\n",
    "predictions.rename(columns={'predicted_mean':'Pred'}, inplace=True)\n",
    "predictions['Actual'].plot(figsize=(20,8), legend=True, color='blue')\n",
    "predictions['Pred'].plot(legend=True, color='red', figsize=(20,8))\n",
    "predictions.head()"
   ]
  },
  {
   "cell_type": "code",
   "execution_count": 46,
   "metadata": {
    "scrolled": false
   },
   "outputs": [
    {
     "name": "stdout",
     "output_type": "stream",
     "text": [
      "Предсказанное:\n",
      "-0.0059863754426350444\n",
      "-0.025786879535518607\n",
      "-0.056541124322646116\n",
      "-0.020785703584186983\n",
      "-0.056228854765383654\n",
      "Изначальное:\n",
      "-0.052959090341442305\n",
      "-0.1325205600778645\n",
      "-0.0928689950661088\n",
      "-0.0796706986770701\n",
      "0.238821925904098\n"
     ]
    }
   ],
   "source": [
    "start_index = 3\n",
    "end_index = 7\n",
    "forecast = best_model.predict(start=start_index, end=end_index)\n",
    "# invert the differenced forecast to something usable\n",
    "print(\"Предсказанное:\")\n",
    "for yhat in forecast:\n",
    "    print(yhat * 100)\n",
    "print(\"Изначальное:\")\n",
    "for x in new_df2['P'][3:8]:\n",
    "    print(x * 100)"
   ]
  },
  {
   "cell_type": "code",
   "execution_count": 34,
   "metadata": {
    "scrolled": false
   },
   "outputs": [
    {
     "data": {
      "text/plain": [
       "2902    0.000794\n",
       "2901   -0.000529\n",
       "2900   -0.000662\n",
       "2899   -0.000530\n",
       "2898   -0.001325\n",
       "          ...   \n",
       "2204    0.000132\n",
       "2203    0.000000\n",
       "2202   -0.000526\n",
       "2201   -0.000790\n",
       "2200    0.000790\n",
       "Name: P, Length: 247, dtype: float64"
      ]
     },
     "execution_count": 34,
     "metadata": {},
     "output_type": "execute_result"
    }
   ],
   "source": [
    "new_df2['P']"
   ]
  },
  {
   "cell_type": "code",
   "execution_count": 35,
   "metadata": {
    "scrolled": false
   },
   "outputs": [
    {
     "data": {
      "text/plain": [
       "2899   -0.000530\n",
       "2898   -0.001325\n",
       "2897   -0.000929\n",
       "2896   -0.000797\n",
       "2655    0.002388\n",
       "2654    0.000927\n",
       "2653    0.000265\n",
       "Name: P, dtype: float64"
      ]
     },
     "execution_count": 35,
     "metadata": {},
     "output_type": "execute_result"
    }
   ],
   "source": [
    "new_df2['P'][3:10]"
   ]
  },
  {
   "cell_type": "code",
   "execution_count": 29,
   "metadata": {
    "scrolled": true
   },
   "outputs": [],
   "source": [
    "#test =  df[df.date.dt.month == 3]\n",
    "##test = [x for x in test['P']]\n",
    "#print(test)\n",
    "#output = best_model.forecast()\n",
    "#print(output)\n",
    "#predictions = list()\n",
    "#for t in range(len(test)):\n",
    "#    output = best_model.forecast()\n",
    "#    yhat = output\n",
    "#    print('Предсказано = %f, Ожидалось = %f' % (yhat, t))"
   ]
  },
  {
   "cell_type": "code",
   "execution_count": null,
   "metadata": {},
   "outputs": [],
   "source": []
  }
 ],
 "metadata": {
  "kernelspec": {
   "display_name": "Python 3",
   "language": "python",
   "name": "python3"
  },
  "language_info": {
   "codemirror_mode": {
    "name": "ipython",
    "version": 3
   },
   "file_extension": ".py",
   "mimetype": "text/x-python",
   "name": "python",
   "nbconvert_exporter": "python",
   "pygments_lexer": "ipython3",
   "version": "3.8.0"
  }
 },
 "nbformat": 4,
 "nbformat_minor": 4
}
